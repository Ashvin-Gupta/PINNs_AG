{
 "cells": [
  {
   "cell_type": "code",
   "execution_count": 1,
   "metadata": {},
   "outputs": [
    {
     "name": "stdout",
     "output_type": "stream",
     "text": [
      "Collecting DeepXDE==0.10\n",
      "\u001b[?25l  Downloading https://files.pythonhosted.org/packages/42/a1/dfa3a829bc691a04e9da510586acdb69cce8d0ecff4984c7b003e70408f5/DeepXDE-0.10.0-py3-none-any.whl (73kB)\n",
      "\u001b[K     |████████████████████████████████| 81kB 4.0MB/s \n",
      "\u001b[?25hCollecting scikit-learn (from DeepXDE==0.10)\n",
      "\u001b[?25l  Downloading https://files.pythonhosted.org/packages/d3/eb/d0e658465c029feb7083139d9ead51000742e88b1fb7f1504e19e1b4ce6e/scikit_learn-0.24.2-cp36-cp36m-manylinux2010_x86_64.whl (22.2MB)\n",
      "\u001b[K     |████████████████████████████████| 22.3MB 26.6MB/s \n",
      "\u001b[?25hCollecting tensorflow>=2.2.0 (from DeepXDE==0.10)\n",
      "\u001b[?25l  Downloading https://files.pythonhosted.org/packages/fe/e2/20b693b5cc699f8116075379d57c4628502f58f96aa759209b77be047882/tensorflow-2.6.2-cp36-cp36m-manylinux2010_x86_64.whl (458.3MB)\n",
      "\u001b[K     |████████████████████████████████| 458.3MB 20kB/s \n",
      "\u001b[?25hRequirement already satisfied: numpy in /rds/general/applications/jupyterhub/2019-04-29/miniconda/lib/python3.6/site-packages (from DeepXDE==0.10) (1.16.2)\n",
      "Requirement already satisfied: scipy in /rds/general/applications/jupyterhub/2019-04-29/miniconda/lib/python3.6/site-packages (from DeepXDE==0.10) (1.2.1)\n",
      "Requirement already satisfied: matplotlib in /rds/general/applications/jupyterhub/2019-04-29/miniconda/lib/python3.6/site-packages (from DeepXDE==0.10) (3.0.3)\n",
      "Collecting salib (from DeepXDE==0.10)\n",
      "\u001b[?25l  Downloading https://files.pythonhosted.org/packages/04/09/bcbe4b907c6d987ea66416178475c6049c9ab7b56135c3725b2e01e3c9e8/SALib-1.4.5-py2.py3-none-any.whl (756kB)\n",
      "\u001b[K     |████████████████████████████████| 757kB 27.6MB/s \n",
      "\u001b[?25hCollecting joblib>=0.11 (from scikit-learn->DeepXDE==0.10)\n",
      "\u001b[?25l  Downloading https://files.pythonhosted.org/packages/7c/91/d3ba0401e62d7e42816bc7d97b82d19c95c164b3e149a87c0a1c026a735e/joblib-1.1.1-py2.py3-none-any.whl (309kB)\n",
      "\u001b[K     |████████████████████████████████| 317kB 27.6MB/s \n",
      "\u001b[?25hCollecting threadpoolctl>=2.0.0 (from scikit-learn->DeepXDE==0.10)\n",
      "  Downloading https://files.pythonhosted.org/packages/61/cf/6e354304bcb9c6413c4e02a747b600061c21d38ba51e7e544ac7bc66aecc/threadpoolctl-3.1.0-py3-none-any.whl\n",
      "Collecting wheel~=0.35 (from tensorflow>=2.2.0->DeepXDE==0.10)\n",
      "  Downloading https://files.pythonhosted.org/packages/27/d6/003e593296a85fd6ed616ed962795b2f87709c3eee2bca4f6d0fe55c6d00/wheel-0.37.1-py2.py3-none-any.whl\n",
      "Collecting wrapt~=1.12.1 (from tensorflow>=2.2.0->DeepXDE==0.10)\n",
      "  Downloading https://files.pythonhosted.org/packages/82/f7/e43cefbe88c5fd371f4cf0cf5eb3feccd07515af9fd6cf7dbf1d1793a797/wrapt-1.12.1.tar.gz\n",
      "Collecting typing-extensions~=3.7.4 (from tensorflow>=2.2.0->DeepXDE==0.10)\n",
      "  Downloading https://files.pythonhosted.org/packages/60/7a/e881b5abb54db0e6e671ab088d079c57ce54e8a01a3ca443f561ccadb37e/typing_extensions-3.7.4.3-py3-none-any.whl\n",
      "Collecting grpcio<2.0,>=1.37.0 (from tensorflow>=2.2.0->DeepXDE==0.10)\n",
      "\u001b[?25l  Downloading https://files.pythonhosted.org/packages/81/9a/6b33e8d15850356772f0ee6489bc8346a7aa90f0c86733283e139740865e/grpcio-1.48.2.tar.gz (22.0MB)\n",
      "\u001b[K     |████████████████████████████████| 22.0MB 26.8MB/s \n",
      "\u001b[?25hCollecting gast==0.4.0 (from tensorflow>=2.2.0->DeepXDE==0.10)\n",
      "  Downloading https://files.pythonhosted.org/packages/b6/48/583c032b79ae5b3daa02225a675aeb673e58d2cb698e78510feceb11958c/gast-0.4.0-py3-none-any.whl\n",
      "Collecting clang~=5.0 (from tensorflow>=2.2.0->DeepXDE==0.10)\n",
      "  Downloading https://files.pythonhosted.org/packages/32/12/e17c1220f8ca587add2e076ebb28b6c4551fcc730e3c69a5f49679ad28e9/clang-5.0.tar.gz\n",
      "Collecting protobuf>=3.9.2 (from tensorflow>=2.2.0->DeepXDE==0.10)\n",
      "\u001b[?25l  Downloading https://files.pythonhosted.org/packages/6c/be/4e32d02bf08b8f76bf6e59f2a531690c1e4264530404501f3489ca975d9a/protobuf-4.21.0-py2.py3-none-any.whl (164kB)\n",
      "\u001b[K     |████████████████████████████████| 174kB 26.9MB/s \n",
      "\u001b[31mERROR: protobuf requires Python '>=3.7' but the running Python is 3.6.8\u001b[0m\n",
      "\u001b[?25hSun Feb  5 13:10:41 2023       \n",
      "+-----------------------------------------------------------------------------+\n",
      "| NVIDIA-SMI 510.60.02    Driver Version: 510.60.02    CUDA Version: 11.6     |\n",
      "|-------------------------------+----------------------+----------------------+\n",
      "| GPU  Name        Persistence-M| Bus-Id        Disp.A | Volatile Uncorr. ECC |\n",
      "| Fan  Temp  Perf  Pwr:Usage/Cap|         Memory-Usage | GPU-Util  Compute M. |\n",
      "|                               |                      |               MIG M. |\n",
      "|===============================+======================+======================|\n",
      "|   0  Quadro P1000        On   | 00000000:B0:00.0 Off |                  N/A |\n",
      "| 34%   45C    P8    N/A /  N/A |      1MiB /  4096MiB |      0%   E. Process |\n",
      "|                               |                      |                  N/A |\n",
      "+-------------------------------+----------------------+----------------------+\n",
      "                                                                               \n",
      "+-----------------------------------------------------------------------------+\n",
      "| Processes:                                                                  |\n",
      "|  GPU   GI   CI        PID   Type   Process name                  GPU Memory |\n",
      "|        ID   ID                                                   Usage      |\n",
      "|=============================================================================|\n",
      "|  No running processes found                                                 |\n",
      "+-----------------------------------------------------------------------------+\n"
     ]
    }
   ],
   "source": [
    "!pip install DeepXDE==0.10\n",
    "\n",
    "gpu_info = !nvidia-smi\n",
    "gpu_info = '\\n'.join(gpu_info)\n",
    "if gpu_info.find('failed') >= 0:\n",
    "  print('Select the Runtime > \"Change runtime type\" menu to enable a GPU accelerator, ')\n",
    "  print('and then re-execute this cell.')\n",
    "else:\n",
    "  print(gpu_info)"
   ]
  },
  {
   "cell_type": "code",
   "execution_count": 3,
   "metadata": {},
   "outputs": [
    {
     "name": "stdout",
     "output_type": "stream",
     "text": [
      "Collecting scikit-learn\n",
      "  Using cached https://files.pythonhosted.org/packages/d3/eb/d0e658465c029feb7083139d9ead51000742e88b1fb7f1504e19e1b4ce6e/scikit_learn-0.24.2-cp36-cp36m-manylinux2010_x86_64.whl\n",
      "Collecting joblib>=0.11 (from scikit-learn)\n",
      "  Using cached https://files.pythonhosted.org/packages/7c/91/d3ba0401e62d7e42816bc7d97b82d19c95c164b3e149a87c0a1c026a735e/joblib-1.1.1-py2.py3-none-any.whl\n",
      "Requirement already satisfied, skipping upgrade: numpy>=1.13.3 in /rds/general/applications/jupyterhub/2019-04-29/miniconda/lib/python3.6/site-packages (from scikit-learn) (1.16.2)\n",
      "Requirement already satisfied, skipping upgrade: scipy>=0.19.1 in /rds/general/applications/jupyterhub/2019-04-29/miniconda/lib/python3.6/site-packages (from scikit-learn) (1.2.1)\n",
      "Collecting threadpoolctl>=2.0.0 (from scikit-learn)\n",
      "  Using cached https://files.pythonhosted.org/packages/61/cf/6e354304bcb9c6413c4e02a747b600061c21d38ba51e7e544ac7bc66aecc/threadpoolctl-3.1.0-py3-none-any.whl\n",
      "Installing collected packages: joblib, threadpoolctl, scikit-learn\n",
      "\u001b[31mERROR: Could not install packages due to an EnvironmentError: [Errno 13] Permission denied: '/apps/jupyterhub/2019-04-29/miniconda/lib/python3.6/site-packages/joblib'\n",
      "Consider using the `--user` option or check the permissions.\n",
      "\u001b[0m\n",
      "Note: you may need to restart the kernel to use updated packages.\n"
     ]
    }
   ],
   "source": [
    "pip install -U scikit-learn"
   ]
  },
  {
   "cell_type": "code",
   "execution_count": 5,
   "metadata": {},
   "outputs": [
    {
     "ename": "ModuleNotFoundError",
     "evalue": "No module named 'sklearn'",
     "output_type": "error",
     "traceback": [
      "\u001b[0;31m---------------------------------------------------------------------------\u001b[0m",
      "\u001b[0;31mModuleNotFoundError\u001b[0m                       Traceback (most recent call last)",
      "\u001b[0;32m<ipython-input-5-730d4cc9f0d0>\u001b[0m in \u001b[0;36m<module>\u001b[0;34m\u001b[0m\n\u001b[1;32m      3\u001b[0m \u001b[0;31m#dir_path = os.path.dirname(os.path.realpath(__file__))\u001b[0m\u001b[0;34m\u001b[0m\u001b[0;34m\u001b[0m\u001b[0;34m\u001b[0m\u001b[0m\n\u001b[1;32m      4\u001b[0m \u001b[0;31m#sys.path.append(dir_path)\u001b[0m\u001b[0;34m\u001b[0m\u001b[0;34m\u001b[0m\u001b[0;34m\u001b[0m\u001b[0m\n\u001b[0;32m----> 5\u001b[0;31m \u001b[0;32mfrom\u001b[0m \u001b[0msklearn\u001b[0m\u001b[0;34m.\u001b[0m\u001b[0mmodel_selection\u001b[0m \u001b[0;32mimport\u001b[0m \u001b[0mtrain_test_split\u001b[0m\u001b[0;34m\u001b[0m\u001b[0;34m\u001b[0m\u001b[0m\n\u001b[0m\u001b[1;32m      6\u001b[0m \u001b[0;32mimport\u001b[0m \u001b[0mmatplotlib\u001b[0m\u001b[0;34m.\u001b[0m\u001b[0mpyplot\u001b[0m \u001b[0;32mas\u001b[0m \u001b[0mplt\u001b[0m\u001b[0;34m\u001b[0m\u001b[0;34m\u001b[0m\u001b[0m\n\u001b[1;32m      7\u001b[0m \u001b[0;32mimport\u001b[0m \u001b[0margparse\u001b[0m\u001b[0;34m\u001b[0m\u001b[0;34m\u001b[0m\u001b[0m\n",
      "\u001b[0;31mModuleNotFoundError\u001b[0m: No module named 'sklearn'"
     ]
    }
   ],
   "source": [
    "import sys\n",
    "import os\n",
    "#dir_path = os.path.dirname(os.path.realpath(__file__))\n",
    "#sys.path.append(dir_path)\n",
    "from sklearn.model_selection import train_test_split\n",
    "import matplotlib.pyplot as plt\n",
    "import argparse\n",
    "import scipy.io\n",
    "import numpy as np\n",
    "import deepxde as dde # version 0.11 or higher\n",
    "from deepxde.backend import tf"
   ]
  },
  {
   "cell_type": "code",
   "execution_count": null,
   "metadata": {},
   "outputs": [],
   "source": [
    "## Network Parameters\n",
    "# 1D\n",
    "input_1d = 2 # network input size (1D) # dimension of the X\n",
    "num_hidden_layers_1d = 4 # number of hidden layers for NN (1D)\n",
    "hidden_layer_size_1d = 32 # size of each hidden layers (1D)\n",
    "output_1d = 3 # network output size (1D)\n",
    "\n",
    "## Training Parameters\n",
    "num_domain = 20000 # number of training points within the domain\n",
    "num_boundary = 1000 # number of training boundary condition points on the geometry boundary\n",
    "num_test = 1000 # number of testing points within the domain\n",
    "MAX_MODEL_INIT = 24 #16 # maximum number of times allowed to initialize the model\n",
    "MAX_LOSS = 4 # upper limit to the initialized loss\n",
    "epochs = 60000 #60000 # number of epochs for training\n",
    "lr =  0.0005 # learning rate\n",
    "noise = 0 #0.1 # noise factor\n",
    "test_size = 0.9 # precentage of testing data"
   ]
  },
  {
   "cell_type": "code",
   "execution_count": null,
   "metadata": {},
   "outputs": [],
   "source": [
    "#PDE parameters\n",
    "a = 0.01\n",
    "b = 0.15\n",
    "D = 0.1\n",
    "k = 8\n",
    "mu_1 = 0.2\n",
    "mu_2 = 0.3\n",
    "epsilon = 0.002"
   ]
  },
  {
   "cell_type": "code",
   "execution_count": null,
   "metadata": {},
   "outputs": [],
   "source": [
    "filename = \"data_1d_left.mat\"\n",
    "data = scipy.io.loadmat(filename)\n",
    "t, x, Vsav, Wsav = data[\"t\"], data[\"x\"], data[\"Vsav\"], data[\"Wsav\"]\n",
    "X, T = np.meshgrid(x, t)\n",
    "max_t = np.max(t)\n",
    "max_x = np.max(x)\n",
    "X = X.reshape(-1, 1)\n",
    "T = T.reshape(-1, 1)\n",
    "V = Vsav.reshape(-1, 1)\n",
    "W = Wsav.reshape(-1, 1)\n",
    "observe_x = np.hstack((X, T)), V, W\n",
    "\n",
    "print(np.shape(observe_x))"
   ]
  },
  {
   "cell_type": "code",
   "execution_count": null,
   "metadata": {},
   "outputs": [],
   "source": [
    "def pde_1D(self, x, y):\n",
    "        V, W = y[:, 0:1], y[:, 1:2]\n",
    "        dv_dt = dde.grad.jacobian(y, x, i=0, j=1)\n",
    "        dv_dxx = dde.grad.hessian(y, x, component=0, i=0, j=0)\n",
    "        dw_dt = dde.grad.jacobian(y, x, i=1, j=1)\n",
    "        ## Coupled PDE+ODE Equations\n",
    "        eq_a = dv_dt -  self.D*dv_dxx + self.k*V*(V-self.a)*(V-1) +W*V \n",
    "        eq_b = dw_dt -  (self.epsilon + (self.mu_1*W)/(self.mu_2+V))*(-W -self.k*V*(V-self.b-1))\n",
    "        \n",
    "        return [eq_a, eq_b]"
   ]
  },
  {
   "cell_type": "code",
   "execution_count": null,
   "metadata": {},
   "outputs": [],
   "source": [
    "observe_train, observe_test, v_train, v_test, w_train, w_test = train_test_split(observe_x,V,W,test_size=test_size)\n",
    "## Geometry and Time domains\n",
    "\n",
    "geom = dde.geometry.Interval(min_x, max_x)\n",
    "timedomain = dde.geometry.TimeDomain(min_t, max_t)\n",
    "geomtime = dde.geometry.GeometryXTime(geom, timedomain)\n",
    "\n",
    "## Define Boundary Conditions\n",
    "bc = dde.NeumannBC(geomtime, lambda x:  np.zeros((len(x), 1)), lambda _, on_boundary: on_boundary, component=0)\n",
    "\n",
    "## Define Initial Conditions\n",
    "T_ic = observe_train[:,-1].reshape(-1,1)\n",
    "idx_init = np.where(np.isclose(T_ic,1))[0]\n",
    "v_init = v_train[idx_init]\n",
    "observe_init = observe_train[idx_init]\n",
    "ic1 = dde.PointSetBC(observe_init,v_init,component=0)\n",
    "\n",
    "observe_v = dde.PointSetBC(observe_train, v_train, component=0)\n",
    "input_data = [bc, ic, observe_v]"
   ]
  },
  {
   "cell_type": "code",
   "execution_count": null,
   "metadata": {},
   "outputs": [],
   "source": [
    "pde = pde_1D\n",
    "net = dde.maps.FNN([input_1d] + [hidden_layer_size_1d] * num_hidden_layers_1d + [output_1d], \"tanh\", \"Glorot uniform\")\n",
    "\n",
    "pde_data = dde.data.TimePDE(geomtime, pde, input_data,\n",
    "                        num_domain = num_domain,\n",
    "                        num_boundary=num_boundary,\n",
    "                        anchors=observe_train,\n",
    "                        num_test=num_test)\n",
    "model = dde.Model(pde_data, net)"
   ]
  },
  {
   "cell_type": "code",
   "execution_count": null,
   "metadata": {},
   "outputs": [],
   "source": [
    "## Stabilize initialization process by capping the losses\n",
    "\n",
    "initial_loss =10e12\n",
    "num_init = 0\n",
    "while initial_loss>MAX_LOSS or np.isnan(initial_loss).any() or np.isinf(initial_loss).any():  # added checking for inf values\n",
    "    num_init += 1\n",
    "    model = dde.Model(pde_data, net)\n",
    "    model.compile(\"adam\", lr=lr)\n",
    "    #model.compile(\"adam\", lr=lr, loss_weights=loss_weights)\n",
    "    losshistory, _ = model.train(epochs=1)\n",
    "#     losshistory, train_state = model.train(epochs=epochs, model_save_path = out_path, display_every=1000)\n",
    "    initial_loss = max(losshistory.loss_train[0])\n",
    "    if num_init > MAX_MODEL_INIT:\n",
    "        raise ValueError('Model initialization phase exceeded the allowed limit')\n",
    "\n",
    "losshistory, train_state = model.train(epochs=epochs)  # crashes here\n",
    "\n",
    "# Plot loss history\n",
    "loss_train = np.sum(losshistory.loss_train, axis=1)\n",
    "loss_test = np.sum(losshistory.loss_test, axis=1)"
   ]
  },
  {
   "cell_type": "code",
   "execution_count": null,
   "metadata": {},
   "outputs": [],
   "source": [
    "model_pred = model.predict(observe_test)\n",
    "upred = model_pred[:,0:1]\n",
    "rmse_v = np.sqrt(np.square(upred - usav).mean())\n",
    "print('rmse_v:', rmse_v)\n",
    "\n",
    "dici1={\"model_pred\": model_pred, \"observe_x\": observe_x, \"ulin\": usav}\n",
    "file_name_save = file_name[0:-4] + \"DONE.mat\"\n",
    "spy.savemat(file_name_save,dici1)"
   ]
  }
 ],
 "metadata": {
  "kernelspec": {
   "display_name": "Python 3",
   "language": "python",
   "name": "python3"
  },
  "language_info": {
   "codemirror_mode": {
    "name": "ipython",
    "version": 3
   },
   "file_extension": ".py",
   "mimetype": "text/x-python",
   "name": "python",
   "nbconvert_exporter": "python",
   "pygments_lexer": "ipython3",
   "version": "3.6.8"
  }
 },
 "nbformat": 4,
 "nbformat_minor": 2
}
