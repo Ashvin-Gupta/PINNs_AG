{
 "cells": [
  {
   "cell_type": "code",
   "execution_count": 1,
   "metadata": {},
   "outputs": [
    {
     "name": "stdout",
     "output_type": "stream",
     "text": [
      "Package                      Version\n",
      "---------------------------- ---------\n",
      "absl-py                      1.4.0\n",
      "asttokens                    2.0.5\n",
      "astunparse                   1.6.3\n",
      "backcall                     0.2.0\n",
      "brotlipy                     0.7.0\n",
      "cachetools                   5.3.0\n",
      "certifi                      2022.12.7\n",
      "cffi                         1.15.1\n",
      "charset-normalizer           2.0.4\n",
      "conda                        23.1.0\n",
      "conda-package-handling       1.9.0\n",
      "contourpy                    1.0.5\n",
      "cryptography                 37.0.1\n",
      "cycler                       0.11.0\n",
      "debugpy                      1.5.1\n",
      "decorator                    5.1.1\n",
      "DeepXDE                      1.8.0\n",
      "entrypoints                  0.4\n",
      "executing                    0.8.3\n",
      "flatbuffers                  23.1.21\n",
      "fonttools                    4.25.0\n",
      "gast                         0.4.0\n",
      "google-auth                  2.16.0\n",
      "google-auth-oauthlib         0.4.6\n",
      "google-pasta                 0.2.0\n",
      "grpcio                       1.51.1\n",
      "h5py                         3.8.0\n",
      "idna                         3.3\n",
      "ipykernel                    6.9.1\n",
      "ipython                      8.4.0\n",
      "jedi                         0.18.1\n",
      "joblib                       1.1.0\n",
      "jupyter-client               7.2.2\n",
      "jupyter-core                 4.10.0\n",
      "keras                        2.11.0\n",
      "kiwisolver                   1.4.4\n",
      "libclang                     15.0.6.1\n",
      "libmambapy                   1.0.0\n",
      "mamba                        1.0.0\n",
      "Markdown                     3.4.1\n",
      "MarkupSafe                   2.1.2\n",
      "matplotlib                   3.6.2\n",
      "matplotlib-inline            0.1.2\n",
      "mkl-fft                      1.3.1\n",
      "mkl-random                   1.2.2\n",
      "mkl-service                  2.4.0\n",
      "munkres                      1.1.4\n",
      "nest-asyncio                 1.5.5\n",
      "numpy                        1.21.5\n",
      "oauthlib                     3.2.2\n",
      "opt-einsum                   3.3.0\n",
      "packaging                    22.0\n",
      "parso                        0.8.3\n",
      "pexpect                      4.8.0\n",
      "pickleshare                  0.7.5\n",
      "Pillow                       9.3.0\n",
      "pip                          22.1.2\n",
      "pluggy                       1.0.0\n",
      "ply                          3.11\n",
      "prompt-toolkit               3.0.20\n",
      "protobuf                     3.19.6\n",
      "ptyprocess                   0.7.0\n",
      "pure-eval                    0.2.2\n",
      "pyaml                        21.10.1\n",
      "pyasn1                       0.4.8\n",
      "pyasn1-modules               0.2.8\n",
      "pycosat                      0.6.3\n",
      "pycparser                    2.21\n",
      "Pygments                     2.11.2\n",
      "pyOpenSSL                    22.0.0\n",
      "pyparsing                    3.0.9\n",
      "PyQt5-sip                    12.11.0\n",
      "PySocks                      1.7.1\n",
      "python-dateutil              2.8.2\n",
      "PyYAML                       6.0\n",
      "pyzmq                        23.2.0\n",
      "requests                     2.28.1\n",
      "requests-oauthlib            1.3.1\n",
      "rsa                          4.9\n",
      "ruamel.yaml                  0.17.21\n",
      "ruamel.yaml.clib             0.2.6\n",
      "ruamel-yaml-conda            0.15.100\n",
      "scikit-learn                 1.1.1\n",
      "scikit-optimize              0.9.0\n",
      "scipy                        1.7.3\n",
      "setuptools                   63.4.1\n",
      "sip                          6.6.2\n",
      "six                          1.16.0\n",
      "stack-data                   0.2.0\n",
      "tensorboard                  2.11.2\n",
      "tensorboard-data-server      0.6.1\n",
      "tensorboard-plugin-wit       1.8.1\n",
      "tensorflow                   2.11.0\n",
      "tensorflow-estimator         2.11.0\n",
      "tensorflow-io-gcs-filesystem 0.30.0\n",
      "termcolor                    2.2.0\n",
      "threadpoolctl                2.2.0\n",
      "toml                         0.10.2\n",
      "toolz                        0.11.2\n",
      "tornado                      6.1\n",
      "tqdm                         4.64.1\n",
      "traitlets                    5.1.1\n",
      "typing_extensions            4.4.0\n",
      "urllib3                      1.26.11\n",
      "wcwidth                      0.2.5\n",
      "Werkzeug                     2.2.2\n",
      "wheel                        0.37.1\n",
      "wrapt                        1.14.1\n",
      "Note: you may need to restart the kernel to use updated packages.\n"
     ]
    }
   ],
   "source": [
    "pip list"
   ]
  },
  {
   "cell_type": "code",
   "execution_count": 1,
   "metadata": {},
   "outputs": [
    {
     "name": "stderr",
     "output_type": "stream",
     "text": [
      "Using backend: tensorflow.compat.v1\n",
      "\n",
      "2023-02-16 14:33:33.117155: I tensorflow/core/platform/cpu_feature_guard.cc:193] This TensorFlow binary is optimized with oneAPI Deep Neural Network Library (oneDNN) to use the following CPU instructions in performance-critical operations:  AVX2 FMA\n",
      "To enable them in other operations, rebuild TensorFlow with the appropriate compiler flags.\n",
      "2023-02-16 14:33:33.261201: W tensorflow/compiler/xla/stream_executor/platform/default/dso_loader.cc:64] Could not load dynamic library 'libcudart.so.11.0'; dlerror: libcudart.so.11.0: cannot open shared object file: No such file or directory\n",
      "2023-02-16 14:33:33.261238: I tensorflow/compiler/xla/stream_executor/cuda/cudart_stub.cc:29] Ignore above cudart dlerror if you do not have a GPU set up on your machine.\n",
      "2023-02-16 14:33:33.956387: W tensorflow/compiler/xla/stream_executor/platform/default/dso_loader.cc:64] Could not load dynamic library 'libnvinfer.so.7'; dlerror: libnvinfer.so.7: cannot open shared object file: No such file or directory\n",
      "2023-02-16 14:33:33.956481: W tensorflow/compiler/xla/stream_executor/platform/default/dso_loader.cc:64] Could not load dynamic library 'libnvinfer_plugin.so.7'; dlerror: libnvinfer_plugin.so.7: cannot open shared object file: No such file or directory\n",
      "2023-02-16 14:33:33.956489: W tensorflow/compiler/tf2tensorrt/utils/py_utils.cc:38] TF-TRT Warning: Cannot dlopen some TensorRT libraries. If you would like to use Nvidia GPU with TensorRT, please make sure the missing libraries mentioned above are installed properly.\n"
     ]
    },
    {
     "name": "stdout",
     "output_type": "stream",
     "text": [
      "WARNING:tensorflow:From /rds/general/user/ag619/home/anaconda3/lib/python3.10/site-packages/tensorflow/python/compat/v2_compat.py:107: disable_resource_variables (from tensorflow.python.ops.variable_scope) is deprecated and will be removed in a future version.\n",
      "Instructions for updating:\n",
      "non-resource variables are not supported in the long term\n"
     ]
    },
    {
     "name": "stderr",
     "output_type": "stream",
     "text": [
      "2023-02-16 14:33:35.192792: E tensorflow/compiler/xla/stream_executor/cuda/cuda_driver.cc:267] failed call to cuInit: CUDA_ERROR_NO_DEVICE: no CUDA-capable device is detected\n",
      "2023-02-16 14:33:35.192860: I tensorflow/compiler/xla/stream_executor/cuda/cuda_diagnostics.cc:156] kernel driver does not appear to be running on this host (cx3-1-29.cx3.hpc.ic.ac.uk): /proc/driver/nvidia/version does not exist\n"
     ]
    },
    {
     "name": "stdout",
     "output_type": "stream",
     "text": [
      "WARNING:tensorflow:From /rds/general/user/ag619/home/anaconda3/lib/python3.10/site-packages/deepxde/nn/initializers.py:118: The name tf.keras.initializers.he_normal is deprecated. Please use tf.compat.v1.keras.initializers.he_normal instead.\n",
      "\n"
     ]
    }
   ],
   "source": [
    "import sys\n",
    "import os\n",
    "#dir_path = os.path.dirname(os.path.realpath(__file__))\n",
    "#sys.path.append(dir_path)\n",
    "from sklearn.model_selection import train_test_split\n",
    "import matplotlib.pyplot as plt\n",
    "import argparse\n",
    "import scipy.io\n",
    "import numpy as np\n",
    "import deepxde as dde # version 0.11 or higher\n",
    "from deepxde.backend import tf"
   ]
  },
  {
   "cell_type": "code",
   "execution_count": 2,
   "metadata": {},
   "outputs": [],
   "source": [
    "## PDE Parameters (initialized for 1D PINN)\n",
    "input = 2 # network input size \n",
    "num_hidden_layers = 4 # number of hidden layers for NN \n",
    "hidden_layer_size = 32 # size of each hidden layers \n",
    "output = 2 # network input size \n",
    "        \n",
    "## Training Parameters\n",
    "num_domain = 20000 # number of training points within the domain\n",
    "num_boundary = 1000 # number of training boundary condition points on the geometry boundary\n",
    "num_test = 1000 # number of testing points within the domain\n",
    "MAX_MODEL_INIT = 16 # maximum number of times allowed to initialize the model\n",
    "MAX_LOSS = 4 # upper limit to the initialized loss\n",
    "epochs_init = 15000 # number of epochs for training initial phase\n",
    "epochs_main = 10000 # number of epochs for main training phase\n",
    "lr = 0.0005 # learning rate"
   ]
  },
  {
   "cell_type": "code",
   "execution_count": 3,
   "metadata": {},
   "outputs": [],
   "source": [
    "a = 0.01\n",
    "b = 0.15\n",
    "D = 0.1\n",
    "k = 8\n",
    "mu_1 = 0.2\n",
    "mu_2 = 0.3\n",
    "epsilon = 0.002\n",
    "\n",
    "## Geometry Parameters\n",
    "min_x = 0.1\n",
    "max_x = 10            \n",
    "min_t = 1\n",
    "max_t = 50\n",
    "spacing = 0.1"
   ]
  },
  {
   "cell_type": "code",
   "execution_count": 4,
   "metadata": {},
   "outputs": [],
   "source": [
    "file_name = \"data_1d_left.mat\"\n",
    "data = scipy.io.loadmat(file_name)\n",
    "t, x, Vsav, Wsav = data[\"t\"], data[\"x\"], data[\"Vsav\"], data[\"Wsav\"]\n",
    "X, T = np.meshgrid(x, t)\n",
    "max_t = np.max(t)\n",
    "max_x = np.max(x)        \n",
    "X = X.reshape(-1, 1)\n",
    "T = T.reshape(-1, 1)\n",
    "V = Vsav.reshape(-1, 1)\n",
    "W = Wsav.reshape(-1, 1)"
   ]
  },
  {
   "cell_type": "code",
   "execution_count": 5,
   "metadata": {},
   "outputs": [],
   "source": [
    "observe_x = np.hstack((X,T))"
   ]
  },
  {
   "cell_type": "code",
   "execution_count": 6,
   "metadata": {},
   "outputs": [],
   "source": [
    "def IC_func(observe_train, v_train):\n",
    "        \n",
    "        T_ic = observe_train[:,-1].reshape(-1,1)\n",
    "        idx_init = np.where(np.isclose(T_ic,1))[0]\n",
    "        v_init = v_train[idx_init]\n",
    "        observe_init = observe_train[idx_init]\n",
    "        return dde.PointSetBC(observe_init,v_init,component=0)"
   ]
  },
  {
   "cell_type": "code",
   "execution_count": 7,
   "metadata": {},
   "outputs": [],
   "source": [
    "def BC_func(dim, geomtime):\n",
    "    bc = dde.NeumannBC(geomtime, lambda x:  np.zeros((len(x), 1)), lambda _, on_boundary: on_boundary, component=0)\n",
    "    return bc"
   ]
  },
  {
   "cell_type": "code",
   "execution_count": 8,
   "metadata": {},
   "outputs": [],
   "source": [
    "    \n",
    "## Split data to train and test\n",
    "observe_train, observe_test, v_train, v_test, w_train, w_test = train_test_split(observe_x,V,W,test_size=0.8)    "
   ]
  },
  {
   "cell_type": "code",
   "execution_count": 9,
   "metadata": {},
   "outputs": [],
   "source": [
    "geom = dde.geometry.Interval(min_x, max_x)\n",
    "timedomain = dde.geometry.TimeDomain(min_t, max_t)\n",
    "geomtime = dde.geometry.GeometryXTime(geom, timedomain)  "
   ]
  },
  {
   "cell_type": "code",
   "execution_count": 10,
   "metadata": {},
   "outputs": [],
   "source": [
    "## Define Boundary Conditions\n",
    "bc = BC_func(1, geomtime)\n",
    "\n",
    "## Define Initial Conditions\n",
    "ic = IC_func(observe_train, v_train)\n",
    "    \n",
    "## Model observed data\n",
    "observe_v = dde.PointSetBC(observe_train, v_train, component=0)\n",
    "input_data = [bc, ic, observe_v]"
   ]
  },
  {
   "cell_type": "code",
   "execution_count": 11,
   "metadata": {},
   "outputs": [],
   "source": [
    "net = dde.maps.FNN([2] + [hidden_layer_size] * num_hidden_layers + [2], \"tanh\", \"Glorot uniform\")\n"
   ]
  },
  {
   "cell_type": "code",
   "execution_count": 12,
   "metadata": {},
   "outputs": [],
   "source": [
    "def pde_1D(x, y):\n",
    "    \n",
    "    V, W = y[:, 0:1], y[:, 1:2]\n",
    "    dv_dt = dde.grad.jacobian(y, x, i=0, j=1)\n",
    "    dv_dxx = dde.grad.hessian(y, x, component=0, i=0, j=0)\n",
    "    dw_dt = dde.grad.jacobian(y, x, i=1, j=1)\n",
    "    ## Coupled PDE+ODE Equations\n",
    "    eq_a = dv_dt -  D*dv_dxx + k*V*(V-a)*(V-1) +W*V \n",
    "    eq_b = dw_dt -  (epsilon + (mu_1*W)/(mu_2+V))*(-W -k*V*(V-b-1))\n",
    "    return [eq_a, eq_b]"
   ]
  },
  {
   "cell_type": "code",
   "execution_count": 13,
   "metadata": {},
   "outputs": [],
   "source": [
    "pde = pde_1D"
   ]
  },
  {
   "cell_type": "code",
   "execution_count": 14,
   "metadata": {},
   "outputs": [
    {
     "name": "stdout",
     "output_type": "stream",
     "text": [
      "Warning: 1000 points required, but 1003 points sampled.\n"
     ]
    }
   ],
   "source": [
    "pde_data = dde.data.TimePDE(geomtime, pde, input_data,\n",
    "                            num_domain = num_domain, \n",
    "                            num_boundary=num_boundary, \n",
    "                            anchors=observe_train,\n",
    "                            num_test=num_test)  "
   ]
  },
  {
   "cell_type": "code",
   "execution_count": 28,
   "metadata": {},
   "outputs": [
    {
     "name": "stdout",
     "output_type": "stream",
     "text": [
      "20000\n",
      "1000\n",
      "(2800, 2)\n",
      "1000\n",
      "<class 'function'>\n",
      "2\n",
      "2\n",
      "3\n",
      "<deepxde.icbc.boundary_conditions.PointSetBC object at 0x14f74b512a40>\n",
      "<deepxde.icbc.boundary_conditions.NeumannBC object at 0x14f70784e1d0>\n"
     ]
    }
   ],
   "source": [
    "print(num_domain)\n",
    "print(num_boundary)\n",
    "print(observe_train.shape)\n",
    "print(num_test)\n",
    "print(type(pde))\n",
    "print(observe_train[0].size)\n",
    "print(observe_train[1].size)\n",
    "print(len(input_data))\n",
    "print(input_data[1])\n",
    "print(bc)"
   ]
  },
  {
   "cell_type": "code",
   "execution_count": 15,
   "metadata": {},
   "outputs": [
    {
     "name": "stdout",
     "output_type": "stream",
     "text": [
      "Compiling model...\n",
      "Building feed-forward neural network...\n",
      "'build' took 0.066638 s\n",
      "\n"
     ]
    },
    {
     "name": "stderr",
     "output_type": "stream",
     "text": [
      "/rds/general/user/ag619/home/anaconda3/lib/python3.10/site-packages/deepxde/nn/tensorflow_compat_v1/fnn.py:114: UserWarning: `tf.layers.dense` is deprecated and will be removed in a future version. Please use `tf.keras.layers.Dense` instead.\n",
      "  return tf.layers.dense(\n",
      "2023-02-14 15:05:22.167869: I tensorflow/core/platform/cpu_feature_guard.cc:193] This TensorFlow binary is optimized with oneAPI Deep Neural Network Library (oneDNN) to use the following CPU instructions in performance-critical operations:  AVX2 FMA\n",
      "To enable them in other operations, rebuild TensorFlow with the appropriate compiler flags.\n"
     ]
    },
    {
     "name": "stdout",
     "output_type": "stream",
     "text": [
      "'compile' took 0.603212 s\n",
      "\n"
     ]
    }
   ],
   "source": [
    "model = dde.Model(pde_data, net)\n",
    "model.compile(\"adam\", lr=lr)"
   ]
  },
  {
   "cell_type": "code",
   "execution_count": 16,
   "metadata": {},
   "outputs": [],
   "source": [
    "def stable_init(model):\n",
    "    ## Stabalize initialization process by capping the losses\n",
    "    losshistory, _ = model.train(epochs=1)\n",
    "    initial_loss = max(losshistory.loss_train[0])\n",
    "    num_init = 1\n",
    "    while initial_loss>MAX_LOSS or np.isnan(initial_loss):\n",
    "        num_init += 1\n",
    "        model = dde.Model(pde_data, net)\n",
    "        model.compile(\"adam\", lr=lr)\n",
    "        losshistory, _ = model.train(epochs=1)\n",
    "        initial_loss = max(losshistory.loss_train[0])\n",
    "        if num_init > MAX_MODEL_INIT:\n",
    "            raise ValueError('Model initialization phase exceeded the allowed limit')\n",
    "    return 0"
   ]
  },
  {
   "cell_type": "code",
   "execution_count": 17,
   "metadata": {},
   "outputs": [],
   "source": [
    "out_path = 'test.txt'"
   ]
  },
  {
   "cell_type": "code",
   "execution_count": 18,
   "metadata": {},
   "outputs": [],
   "source": [
    "def train_1_phase(model, out_path):\n",
    "    \n",
    "    losshistory, train_state = model.train(epochs=epochs_main, model_save_path = out_path)\n",
    "    return losshistory, train_state"
   ]
  },
  {
   "cell_type": "code",
   "execution_count": 19,
   "metadata": {},
   "outputs": [],
   "source": [
    "def train(model, out_path):\n",
    "        \n",
    "        ## Stabalize initialization process by capping the losses\n",
    "        stable_init(model)\n",
    "      \n",
    "     \n",
    "        losshistory, train_state = train_1_phase(model, out_path)\n",
    "                   \n",
    "        return model, losshistory, train_state"
   ]
  },
  {
   "cell_type": "code",
   "execution_count": 20,
   "metadata": {},
   "outputs": [
    {
     "name": "stdout",
     "output_type": "stream",
     "text": [
      "Warning: epochs is deprecated and will be removed in a future version. Use iterations instead.\n",
      "Initializing variables...\n"
     ]
    },
    {
     "name": "stderr",
     "output_type": "stream",
     "text": [
      "2023-02-14 15:05:37.194633: I tensorflow/compiler/mlir/mlir_graph_optimization_pass.cc:357] MLIR V1 optimization pass is not enabled\n"
     ]
    },
    {
     "name": "stdout",
     "output_type": "stream",
     "text": [
      "Training model...\n",
      "\n",
      "Step      Train loss                                            Test loss                                             Test metric\n",
      "0         [5.80e+00, 2.84e+03, 6.89e-04, 9.47e-02, 6.41e-01]    [5.39e+00, 4.94e+01, 6.89e-04, 9.47e-02, 6.41e-01]    []  \n",
      "1         [1.32e+01, 2.37e+03, 6.03e-04, 1.39e-01, 7.92e-01]    [1.25e+01, 5.49e+01, 6.03e-04, 1.39e-01, 7.92e-01]    []  \n",
      "\n",
      "Best model at step 1:\n",
      "  train loss: 2.39e+03\n",
      "  test loss: 6.84e+01\n",
      "  test metric: []\n",
      "\n",
      "'train' took 1.041585 s\n",
      "\n",
      "Compiling model...\n",
      "'compile' took 0.458314 s\n",
      "\n",
      "Warning: epochs is deprecated and will be removed in a future version. Use iterations instead.\n",
      "Initializing variables...\n",
      "Training model...\n",
      "\n",
      "Step      Train loss                                            Test loss                                             Test metric\n",
      "0         [1.71e-02, 2.15e-01, 5.24e-04, 1.24e-03, 2.83e-01]    [1.63e-02, 1.97e-01, 5.24e-04, 1.24e-03, 2.83e-01]    []  \n",
      "1         [2.49e-02, 4.35e-02, 4.67e-04, 1.47e-03, 2.33e-01]    [2.52e-02, 4.29e-02, 4.67e-04, 1.47e-03, 2.33e-01]    []  \n",
      "\n",
      "Best model at step 1:\n",
      "  train loss: 3.03e-01\n",
      "  test loss: 3.03e-01\n",
      "  test metric: []\n",
      "\n",
      "'train' took 0.580353 s\n",
      "\n",
      "Warning: epochs is deprecated and will be removed in a future version. Use iterations instead.\n",
      "Training model...\n",
      "\n",
      "Step      Train loss                                            Test loss                                             Test metric\n",
      "1         [1.32e+01, 2.37e+03, 6.03e-04, 1.39e-01, 7.92e-01]    [1.25e+01, 5.49e+01, 6.03e-04, 1.39e-01, 7.92e-01]    []  \n"
     ]
    },
    {
     "name": "stderr",
     "output_type": "stream",
     "text": [
      "2023-02-14 15:05:39.293945: W tensorflow/c/c_api.cc:291] Operation '{name:'dense_4/bias/Adam_1/Assign' id:1435 op device:{requested: '', assigned: ''} def:{{{node dense_4/bias/Adam_1/Assign}} = Assign[T=DT_FLOAT, _class=[\"loc:@dense_4/bias\"], _has_manual_control_dependencies=true, use_locking=true, validate_shape=true](dense_4/bias/Adam_1, dense_4/bias/Adam_1/Initializer/zeros)}}' was changed by setting attribute after it was run by a session. This mutation will have no effect, and will trigger an error in the future. Either don't modify nodes after running them or create a new session.\n",
      "2023-02-14 15:05:39.374695: W tensorflow/c/c_api.cc:291] Operation '{name:'dense_4/bias/Adam_3/Assign' id:2696 op device:{requested: '', assigned: ''} def:{{{node dense_4/bias/Adam_3/Assign}} = Assign[T=DT_FLOAT, _class=[\"loc:@dense_4/bias\"], _has_manual_control_dependencies=true, use_locking=true, validate_shape=true](dense_4/bias/Adam_3, dense_4/bias/Adam_3/Initializer/zeros)}}' was changed by setting attribute after it was run by a session. This mutation will have no effect, and will trigger an error in the future. Either don't modify nodes after running them or create a new session.\n"
     ]
    },
    {
     "name": "stdout",
     "output_type": "stream",
     "text": [
      "1000      [7.58e+01, 5.73e-01, 1.02e-03, 5.68e-01, 1.26e+00]    [7.39e+01, 5.73e-01, 1.02e-03, 5.68e-01, 1.26e+00]    []  \n",
      "2000      [7.58e+01, 5.74e-01, 1.02e-03, 5.68e-01, 1.26e+00]    [7.39e+01, 5.74e-01, 1.02e-03, 5.68e-01, 1.26e+00]    []  \n",
      "3000      [7.58e+01, 5.75e-01, 1.02e-03, 5.68e-01, 1.26e+00]    [7.39e+01, 5.75e-01, 1.02e-03, 5.68e-01, 1.26e+00]    []  \n",
      "4000      [7.58e+01, 5.76e-01, 1.02e-03, 5.68e-01, 1.26e+00]    [7.39e+01, 5.76e-01, 1.02e-03, 5.68e-01, 1.26e+00]    []  \n",
      "5000      [7.58e+01, 5.79e-01, 1.02e-03, 5.68e-01, 1.26e+00]    [7.38e+01, 5.79e-01, 1.02e-03, 5.68e-01, 1.26e+00]    []  \n",
      "6000      [7.58e+01, 5.84e-01, 1.02e-03, 5.68e-01, 1.26e+00]    [7.38e+01, 5.84e-01, 1.02e-03, 5.68e-01, 1.26e+00]    []  \n",
      "7000      [7.58e+01, 5.93e-01, 1.02e-03, 5.68e-01, 1.26e+00]    [7.38e+01, 5.93e-01, 1.02e-03, 5.68e-01, 1.26e+00]    []  \n",
      "8000      [7.58e+01, 6.06e-01, 1.02e-03, 5.68e-01, 1.26e+00]    [7.38e+01, 6.06e-01, 1.02e-03, 5.68e-01, 1.26e+00]    []  \n",
      "9000      [7.57e+01, 6.28e-01, 1.02e-03, 5.68e-01, 1.26e+00]    [7.38e+01, 6.29e-01, 1.02e-03, 5.68e-01, 1.26e+00]    []  \n",
      "10000     [7.57e+01, 6.64e-01, 1.02e-03, 5.68e-01, 1.26e+00]    [7.37e+01, 6.65e-01, 1.02e-03, 5.68e-01, 1.26e+00]    []  \n",
      "10001     [7.57e+01, 6.64e-01, 1.02e-03, 5.68e-01, 1.26e+00]    [7.37e+01, 6.65e-01, 1.02e-03, 5.68e-01, 1.26e+00]    []  \n",
      "\n",
      "Best model at step 10001:\n",
      "  train loss: 7.82e+01\n",
      "  test loss: 7.62e+01\n",
      "  test metric: []\n",
      "\n",
      "INFO:tensorflow:test.txt-10001.ckpt is not in all_model_checkpoint_paths. Manually adding it.\n",
      "Epoch 10001: saving model to test.txt-10001.ckpt ...\n",
      "\n",
      "'train' took 558.471593 s\n",
      "\n"
     ]
    }
   ],
   "source": [
    "model, losshistory, train_state = train(model, out_path)"
   ]
  },
  {
   "cell_type": "code",
   "execution_count": 21,
   "metadata": {},
   "outputs": [],
   "source": [
    "pred = model.predict(observe_test)\n",
    "v_pred = pred[:,0:1]\n",
    "rmse_v = np.sqrt(np.square(v_pred - v_test).mean())"
   ]
  },
  {
   "cell_type": "code",
   "execution_count": 22,
   "metadata": {},
   "outputs": [
    {
     "name": "stdout",
     "output_type": "stream",
     "text": [
      "V rMSE for test data: 1.1218949013362933\n"
     ]
    }
   ],
   "source": [
    "print(\"V rMSE for test data:\", rmse_v)"
   ]
  },
  {
   "cell_type": "code",
   "execution_count": 23,
   "metadata": {},
   "outputs": [
    {
     "name": "stdout",
     "output_type": "stream",
     "text": [
      "20000\n",
      "1000\n",
      "(2800, 2)\n",
      "1000\n"
     ]
    }
   ],
   "source": [
    "print(num_domain)\n",
    "print(num_boundary)\n",
    "print(observe_train.shape)\n",
    "print(num_test)"
   ]
  },
  {
   "cell_type": "code",
   "execution_count": null,
   "metadata": {},
   "outputs": [],
   "source": []
  }
 ],
 "metadata": {
  "kernelspec": {
   "display_name": "PINNs_gpu",
   "language": "python",
   "name": "pinns_gpu"
  },
  "language_info": {
   "codemirror_mode": {
    "name": "ipython",
    "version": 3
   },
   "file_extension": ".py",
   "mimetype": "text/x-python",
   "name": "python",
   "nbconvert_exporter": "python",
   "pygments_lexer": "ipython3",
   "version": "3.10.4"
  }
 },
 "nbformat": 4,
 "nbformat_minor": 2
}
