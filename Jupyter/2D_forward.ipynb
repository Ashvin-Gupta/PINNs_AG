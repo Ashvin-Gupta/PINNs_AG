{
 "cells": [
  {
   "cell_type": "code",
   "execution_count": 1,
   "metadata": {},
   "outputs": [
    {
     "name": "stderr",
     "output_type": "stream",
     "text": [
      "Using backend: tensorflow.compat.v1\n",
      "\n",
      "2023-02-17 16:16:33.253090: I tensorflow/core/platform/cpu_feature_guard.cc:193] This TensorFlow binary is optimized with oneAPI Deep Neural Network Library (oneDNN) to use the following CPU instructions in performance-critical operations:  AVX2 FMA\n",
      "To enable them in other operations, rebuild TensorFlow with the appropriate compiler flags.\n",
      "2023-02-17 16:16:33.460368: W tensorflow/compiler/xla/stream_executor/platform/default/dso_loader.cc:64] Could not load dynamic library 'libcudart.so.11.0'; dlerror: libcudart.so.11.0: cannot open shared object file: No such file or directory\n",
      "2023-02-17 16:16:33.460413: I tensorflow/compiler/xla/stream_executor/cuda/cudart_stub.cc:29] Ignore above cudart dlerror if you do not have a GPU set up on your machine.\n",
      "2023-02-17 16:16:34.323852: W tensorflow/compiler/xla/stream_executor/platform/default/dso_loader.cc:64] Could not load dynamic library 'libnvinfer.so.7'; dlerror: libnvinfer.so.7: cannot open shared object file: No such file or directory\n",
      "2023-02-17 16:16:34.323960: W tensorflow/compiler/xla/stream_executor/platform/default/dso_loader.cc:64] Could not load dynamic library 'libnvinfer_plugin.so.7'; dlerror: libnvinfer_plugin.so.7: cannot open shared object file: No such file or directory\n",
      "2023-02-17 16:16:34.323968: W tensorflow/compiler/tf2tensorrt/utils/py_utils.cc:38] TF-TRT Warning: Cannot dlopen some TensorRT libraries. If you would like to use Nvidia GPU with TensorRT, please make sure the missing libraries mentioned above are installed properly.\n"
     ]
    },
    {
     "name": "stdout",
     "output_type": "stream",
     "text": [
      "WARNING:tensorflow:From /rds/general/user/ag619/home/anaconda3/lib/python3.10/site-packages/tensorflow/python/compat/v2_compat.py:107: disable_resource_variables (from tensorflow.python.ops.variable_scope) is deprecated and will be removed in a future version.\n",
      "Instructions for updating:\n",
      "non-resource variables are not supported in the long term\n"
     ]
    },
    {
     "name": "stderr",
     "output_type": "stream",
     "text": [
      "2023-02-17 16:16:35.933924: E tensorflow/compiler/xla/stream_executor/cuda/cuda_driver.cc:267] failed call to cuInit: CUDA_ERROR_NO_DEVICE: no CUDA-capable device is detected\n",
      "2023-02-17 16:16:35.934002: I tensorflow/compiler/xla/stream_executor/cuda/cuda_diagnostics.cc:156] kernel driver does not appear to be running on this host (cx3-6-29.cx3.hpc.ic.ac.uk): /proc/driver/nvidia/version does not exist\n"
     ]
    },
    {
     "name": "stdout",
     "output_type": "stream",
     "text": [
      "WARNING:tensorflow:From /rds/general/user/ag619/home/anaconda3/lib/python3.10/site-packages/deepxde/nn/initializers.py:118: The name tf.keras.initializers.he_normal is deprecated. Please use tf.compat.v1.keras.initializers.he_normal instead.\n",
      "\n"
     ]
    }
   ],
   "source": [
    "import sys\n",
    "import os\n",
    "#dir_path = os.path.dirname(os.path.realpath(__file__))\n",
    "#sys.path.append(dir_path)\n",
    "from sklearn.model_selection import train_test_split\n",
    "import matplotlib.pyplot as plt\n",
    "import argparse\n",
    "import scipy.io\n",
    "import numpy as np\n",
    "import deepxde as dde # version 0.11 or higher\n",
    "from deepxde.backend import tf"
   ]
  },
  {
   "cell_type": "code",
   "execution_count": 2,
   "metadata": {},
   "outputs": [],
   "source": [
    "## PDE Parameters (initialized for 1D PINN)\n",
    "\n",
    "input = 3\n",
    "num_hidden_layers = 5\n",
    "hidden_layer_size = 60\n",
    "num_domain = 40000\n",
    "num_boundary = 4000\n",
    "epochs_main = 150000\n",
    "output = 2 # network input size \n",
    "        \n",
    "## Training Parameters\n",
    "num_domain = 20000 # number of training points within the domain\n",
    "num_boundary = 1000 # number of training boundary condition points on the geometry boundary\n",
    "num_test = 1000 # number of testing points within the domain\n",
    "MAX_MODEL_INIT = 16 # maximum number of times allowed to initialize the model\n",
    "MAX_LOSS = 4 # upper limit to the initialized loss\n",
    "epochs_init = 15000 # number of epochs for training initial phase\n",
    "epochs_main = 10000 # number of epochs for main training phase\n",
    "lr = 0.0005 # learning rate"
   ]
  },
  {
   "cell_type": "code",
   "execution_count": 3,
   "metadata": {},
   "outputs": [],
   "source": [
    "a = 0.01\n",
    "b = 0.15\n",
    "D = 0.1\n",
    "k = 8\n",
    "mu_1 = 0.2\n",
    "mu_2 = 0.3\n",
    "epsilon = 0.002\n",
    "\n",
    "## Geometry Parameters\n",
    "min_x = 0.1\n",
    "max_x = 10\n",
    "min_y = 0.1\n",
    "max_y = 10\n",
    "min_t = 1\n",
    "max_t = 50\n",
    "spacing = 0.1"
   ]
  },
  {
   "cell_type": "code",
   "execution_count": 4,
   "metadata": {},
   "outputs": [],
   "source": [
    "file_name = \"data_2d_corner.mat\"\n",
    "data = scipy.io.loadmat(file_name)\n",
    "t, x, y, Vsav, Wsav = data[\"t\"], data[\"x\"], data[\"y\"], data[\"Vsav\"], data[\"Wsav\"]\n",
    "X, T, Y = np.meshgrid(x,t,y)\n",
    "Y = Y.reshape(-1, 1)\n",
    "\n",
    "max_t = np.max(t)\n",
    "max_x = np.max(x)        \n",
    "X = X.reshape(-1, 1)\n",
    "T = T.reshape(-1, 1)\n",
    "V = Vsav.reshape(-1, 1)\n",
    "W = Wsav.reshape(-1, 1)"
   ]
  },
  {
   "cell_type": "code",
   "execution_count": 5,
   "metadata": {},
   "outputs": [],
   "source": [
    "observe_x = np.hstack((X, Y, T))"
   ]
  },
  {
   "cell_type": "code",
   "execution_count": 6,
   "metadata": {},
   "outputs": [],
   "source": [
    "def IC_func(observe_train, v_train):\n",
    "        \n",
    "        T_ic = observe_train[:,-1].reshape(-1,1)\n",
    "        idx_init = np.where(np.isclose(T_ic,1))[0]\n",
    "        v_init = v_train[idx_init]\n",
    "        observe_init = observe_train[idx_init]\n",
    "        return dde.PointSetBC(observe_init,v_init,component=0)"
   ]
  },
  {
   "cell_type": "code",
   "execution_count": 7,
   "metadata": {},
   "outputs": [],
   "source": [
    "def boundary_func_2d(x, on_boundary):\n",
    "    return on_boundary and ~(x[0:2]==[min_x,min_y]).all() and  ~(x[0:2]==[min_x,max_y]).all() and ~(x[0:2]==[max_x,min_y]).all()  and  ~(x[0:2]==[max_x,max_y]).all() \n"
   ]
  },
  {
   "cell_type": "code",
   "execution_count": 8,
   "metadata": {},
   "outputs": [],
   "source": [
    "def BC_func(geomtime):\n",
    "        bc = dde.NeumannBC(geomtime, lambda x:  np.zeros((len(x), 1)), boundary_func_2d, component=0)\n",
    "        return bc"
   ]
  },
  {
   "cell_type": "code",
   "execution_count": 9,
   "metadata": {},
   "outputs": [],
   "source": [
    "observe_train, observe_test, v_train, v_test, w_train, w_test = train_test_split(observe_x,V,W,test_size=0.8)  "
   ]
  },
  {
   "cell_type": "code",
   "execution_count": 10,
   "metadata": {},
   "outputs": [],
   "source": [
    "geom = dde.geometry.Rectangle([min_x,min_y], [max_x,max_y])\n",
    "timedomain = dde.geometry.TimeDomain(min_t, max_t)\n",
    "geomtime = dde.geometry.GeometryXTime(geom, timedomain) "
   ]
  },
  {
   "cell_type": "code",
   "execution_count": 11,
   "metadata": {},
   "outputs": [],
   "source": [
    "## Define Boundary Conditions\n",
    "bc = BC_func(geomtime)\n",
    "\n",
    "## Define Initial Conditions\n",
    "ic = IC_func(observe_train, v_train)\n",
    "    \n",
    "## Model observed data\n",
    "observe_v = dde.PointSetBC(observe_train, v_train, component=0)\n",
    "input_data = [bc, ic, observe_v]"
   ]
  },
  {
   "cell_type": "code",
   "execution_count": 12,
   "metadata": {},
   "outputs": [],
   "source": [
    "net = dde.maps.FNN([input] + [hidden_layer_size] * num_hidden_layers + [output], \"tanh\", \"Glorot uniform\")"
   ]
  },
  {
   "cell_type": "code",
   "execution_count": 13,
   "metadata": {},
   "outputs": [],
   "source": [
    "def pde_2D(x, y):\n",
    "    print(y.shape)\n",
    "    print(x.shape)\n",
    "    \n",
    "    V, W = y[:, 0:1], y[:, 1:2]\n",
    "    print(V)\n",
    "    print(W)\n",
    "    print(dde.grad.hessian(y, x, component=0, i=0, j=0))\n",
    "    print(dde.grad.jacobian(y, x, i=0, j=1))\n",
    "    dv_dt = dde.grad.jacobian(y, x, i=0, j=2)\n",
    "    dv_dxx = dde.grad.hessian(y, x, component=0, i=0, j=0)\n",
    "    dv_dyy = dde.grad.hessian(y, x, component=0, i=1, j=1)\n",
    "    dw_dt = dde.grad.jacobian(y, x, i=1, j=2)\n",
    "        ## Coupled PDE+ODE Equations\n",
    "    eq_a = dv_dt -  D*(dv_dxx + dv_dyy) + k*V*(V-a)*(V-1) +W*V \n",
    "    eq_b = dw_dt -  (epsilon + (mu_1*W)/(mu_2+V))*(-W -k*V*(V-b-1))\n",
    "    return [eq_a, eq_b]"
   ]
  },
  {
   "cell_type": "code",
   "execution_count": 14,
   "metadata": {},
   "outputs": [],
   "source": [
    "pde = pde_2D"
   ]
  },
  {
   "cell_type": "code",
   "execution_count": 15,
   "metadata": {},
   "outputs": [
    {
     "name": "stdout",
     "output_type": "stream",
     "text": [
      "Warning: 38 points required, but 49 points sampled.\n",
      "Warning: 1000 points required, but 1323 points sampled.\n"
     ]
    }
   ],
   "source": [
    "pde_data = dde.data.TimePDE(geomtime, pde, input_data,\n",
    "                            num_domain = num_domain, \n",
    "                            num_boundary=num_boundary, \n",
    "                            anchors=observe_train,\n",
    "                            num_test=num_test) \n",
    "model = dde.Model(pde_data, net)\n"
   ]
  },
  {
   "cell_type": "code",
   "execution_count": 16,
   "metadata": {},
   "outputs": [
    {
     "name": "stdout",
     "output_type": "stream",
     "text": [
      "Compiling model...\n",
      "Building feed-forward neural network...\n",
      "'build' took 0.085063 s\n",
      "\n",
      "(None, 2)\n",
      "(None, 3)\n",
      "Tensor(\"strided_slice:0\", shape=(None, 1), dtype=float32)\n",
      "Tensor(\"strided_slice_1:0\", shape=(None, 1), dtype=float32)\n",
      "Tensor(\"strided_slice_4:0\", shape=(None, 1), dtype=float32)\n",
      "Tensor(\"strided_slice_5:0\", shape=(None, 1), dtype=float32)\n"
     ]
    },
    {
     "name": "stderr",
     "output_type": "stream",
     "text": [
      "/rds/general/user/ag619/home/anaconda3/lib/python3.10/site-packages/deepxde/nn/tensorflow_compat_v1/fnn.py:114: UserWarning: `tf.layers.dense` is deprecated and will be removed in a future version. Please use `tf.keras.layers.Dense` instead.\n",
      "  return tf.layers.dense(\n",
      "2023-02-17 16:16:57.070191: I tensorflow/core/platform/cpu_feature_guard.cc:193] This TensorFlow binary is optimized with oneAPI Deep Neural Network Library (oneDNN) to use the following CPU instructions in performance-critical operations:  AVX2 FMA\n",
      "To enable them in other operations, rebuild TensorFlow with the appropriate compiler flags.\n"
     ]
    },
    {
     "name": "stdout",
     "output_type": "stream",
     "text": [
      "Warning: Rectangle boundary_normal called on vertices. You may use PDE(..., exclusions=...) to exclude the vertices.\n",
      "(None, 2)\n",
      "(None, 3)\n",
      "Tensor(\"strided_slice_17:0\", shape=(None, 1), dtype=float32)\n",
      "Tensor(\"strided_slice_18:0\", shape=(None, 1), dtype=float32)\n",
      "Tensor(\"strided_slice_19:0\", shape=(None, 1), dtype=float32)\n",
      "Tensor(\"strided_slice_20:0\", shape=(None, 1), dtype=float32)\n",
      "Warning: Rectangle boundary_normal called on vertices. You may use PDE(..., exclusions=...) to exclude the vertices.\n",
      "'compile' took 0.869349 s\n",
      "\n"
     ]
    }
   ],
   "source": [
    "model.compile(\"adam\", lr=lr)"
   ]
  },
  {
   "cell_type": "code",
   "execution_count": 17,
   "metadata": {},
   "outputs": [],
   "source": [
    "def stable_init(model):\n",
    "    ## Stabalize initialization process by capping the losses\n",
    "    losshistory, _ = model.train(epochs=1)\n",
    "    initial_loss = max(losshistory.loss_train[0])\n",
    "    num_init = 1\n",
    "    while initial_loss>MAX_LOSS or np.isnan(initial_loss):\n",
    "        num_init += 1\n",
    "        model = dde.Model(pde_data, net)\n",
    "        model.compile(\"adam\", lr=lr)\n",
    "        losshistory, _ = model.train(epochs=1)\n",
    "        initial_loss = max(losshistory.loss_train[0])\n",
    "        if num_init > MAX_MODEL_INIT:\n",
    "            raise ValueError('Model initialization phase exceeded the allowed limit')\n",
    "    return 0"
   ]
  },
  {
   "cell_type": "code",
   "execution_count": 18,
   "metadata": {},
   "outputs": [],
   "source": [
    "out_path = 'test.txt'"
   ]
  },
  {
   "cell_type": "code",
   "execution_count": 19,
   "metadata": {},
   "outputs": [],
   "source": [
    "def train_3_phase(self, out_path):\n",
    "    init_weights = [0,0,0,0,1]\n",
    "        \n",
    "    ## Initial phase\n",
    "    model.compile(\"adam\", lr=0.0005, loss_weights=init_weights)\n",
    "    losshistory, train_state = model.train(epochs=epochs_init, model_save_path = out_path)\n",
    "    ## Main phase\n",
    "    model.compile(\"adam\", lr=lr)\n",
    "    losshistory, train_state = model.train(epochs=epochs_main, model_save_path = out_path)\n",
    "    ## Final phase\n",
    "    model.compile(\"L-BFGS-B\")\n",
    "    losshistory, train_state = model.train(model_save_path = out_path)\n",
    "    return losshistory, train_state"
   ]
  },
  {
   "cell_type": "code",
   "execution_count": 20,
   "metadata": {},
   "outputs": [],
   "source": [
    "def train(model, out_path):\n",
    "        \n",
    "        ## Stabalize initialization process by capping the losses\n",
    "        stable_init(model)\n",
    "      \n",
    "     \n",
    "        losshistory, train_state = train_3_phase(model, out_path)\n",
    "                   \n",
    "        return model, losshistory, train_state"
   ]
  },
  {
   "cell_type": "code",
   "execution_count": null,
   "metadata": {},
   "outputs": [
    {
     "name": "stdout",
     "output_type": "stream",
     "text": [
      "Warning: epochs is deprecated and will be removed in a future version. Use iterations instead.\n",
      "Initializing variables...\n"
     ]
    },
    {
     "name": "stderr",
     "output_type": "stream",
     "text": [
      "2023-02-17 16:17:05.146770: I tensorflow/compiler/mlir/mlir_graph_optimization_pass.cc:357] MLIR V1 optimization pass is not enabled\n"
     ]
    },
    {
     "name": "stdout",
     "output_type": "stream",
     "text": [
      "Training model...\n",
      "\n",
      "Step      Train loss                                            Test loss                                             Test metric\n",
      "0         [3.25e+00, 1.77e+04, 2.27e-03, 1.80e-01, 3.48e-01]    [2.31e+00, 6.99e+02, 2.27e-03, 1.80e-01, 3.48e-01]    []  \n",
      "1         [2.35e+01, 6.72e+06, 2.37e-03, 3.26e-01, 6.71e-01]    [2.06e+01, 1.36e+03, 2.37e-03, 3.26e-01, 6.71e-01]    []  \n",
      "\n",
      "Best model at step 0:\n",
      "  train loss: 1.77e+04\n",
      "  test loss: 7.02e+02\n",
      "  test metric: []\n",
      "\n",
      "'train' took 6.695508 s\n",
      "\n",
      "Compiling model...\n",
      "(None, 2)\n",
      "(None, 3)\n",
      "Tensor(\"strided_slice_30:0\", shape=(None, 1), dtype=float32)\n",
      "Tensor(\"strided_slice_31:0\", shape=(None, 1), dtype=float32)\n",
      "Tensor(\"strided_slice_32:0\", shape=(None, 1), dtype=float32)\n",
      "Tensor(\"strided_slice_33:0\", shape=(None, 1), dtype=float32)\n",
      "Warning: Rectangle boundary_normal called on vertices. You may use PDE(..., exclusions=...) to exclude the vertices.\n",
      "(None, 2)\n",
      "(None, 3)\n",
      "Tensor(\"strided_slice_43:0\", shape=(None, 1), dtype=float32)\n",
      "Tensor(\"strided_slice_44:0\", shape=(None, 1), dtype=float32)\n",
      "Tensor(\"strided_slice_45:0\", shape=(None, 1), dtype=float32)\n",
      "Tensor(\"strided_slice_46:0\", shape=(None, 1), dtype=float32)\n",
      "Warning: Rectangle boundary_normal called on vertices. You may use PDE(..., exclusions=...) to exclude the vertices.\n",
      "'compile' took 0.727438 s\n",
      "\n",
      "Warning: epochs is deprecated and will be removed in a future version. Use iterations instead.\n",
      "Initializing variables...\n",
      "Training model...\n",
      "\n",
      "Step      Train loss                                            Test loss                                             Test metric\n",
      "0         [3.31e-01, 1.21e+03, 2.97e-03, 2.32e-01, 2.51e-01]    [1.63e-01, 1.36e+01, 2.97e-03, 2.32e-01, 2.51e-01]    []  \n",
      "1         [2.36e+00, 3.92e+03, 3.24e-03, 2.78e-01, 3.90e-01]    [1.48e+00, 2.45e+02, 3.24e-03, 2.78e-01, 3.90e-01]    []  \n",
      "\n",
      "Best model at step 0:\n",
      "  train loss: 1.21e+03\n",
      "  test loss: 1.42e+01\n",
      "  test metric: []\n",
      "\n",
      "'train' took 6.327238 s\n",
      "\n",
      "Compiling model...\n",
      "(None, 2)\n",
      "(None, 3)\n",
      "Tensor(\"strided_slice_56:0\", shape=(None, 1), dtype=float32)\n",
      "Tensor(\"strided_slice_57:0\", shape=(None, 1), dtype=float32)\n",
      "Tensor(\"strided_slice_58:0\", shape=(None, 1), dtype=float32)\n",
      "Tensor(\"strided_slice_59:0\", shape=(None, 1), dtype=float32)\n",
      "Warning: Rectangle boundary_normal called on vertices. You may use PDE(..., exclusions=...) to exclude the vertices.\n",
      "(None, 2)\n",
      "(None, 3)\n",
      "Tensor(\"strided_slice_69:0\", shape=(None, 1), dtype=float32)\n",
      "Tensor(\"strided_slice_70:0\", shape=(None, 1), dtype=float32)\n",
      "Tensor(\"strided_slice_71:0\", shape=(None, 1), dtype=float32)\n",
      "Tensor(\"strided_slice_72:0\", shape=(None, 1), dtype=float32)\n",
      "Warning: Rectangle boundary_normal called on vertices. You may use PDE(..., exclusions=...) to exclude the vertices.\n",
      "'compile' took 0.940145 s\n",
      "\n",
      "Warning: epochs is deprecated and will be removed in a future version. Use iterations instead.\n",
      "Initializing variables...\n",
      "Training model...\n",
      "\n",
      "Step      Train loss                                            Test loss                                             Test metric\n",
      "0         [4.16e-01, 3.63e+06, 1.37e-03, 8.93e-01, 5.17e-01]    [3.55e-01, 1.71e+02, 1.37e-03, 8.93e-01, 5.17e-01]    []  \n",
      "1         [2.37e+01, 9.35e+01, 1.38e-03, 7.53e-01, 1.06e+00]    [2.33e+01, 4.33e-01, 1.38e-03, 7.53e-01, 1.06e+00]    []  \n",
      "\n",
      "Best model at step 1:\n",
      "  train loss: 1.19e+02\n",
      "  test loss: 2.56e+01\n",
      "  test metric: []\n",
      "\n",
      "'train' took 6.227697 s\n",
      "\n",
      "Compiling model...\n",
      "(None, 2)\n",
      "(None, 3)\n",
      "Tensor(\"strided_slice_82:0\", shape=(None, 1), dtype=float32)\n",
      "Tensor(\"strided_slice_83:0\", shape=(None, 1), dtype=float32)\n",
      "Tensor(\"strided_slice_84:0\", shape=(None, 1), dtype=float32)\n",
      "Tensor(\"strided_slice_85:0\", shape=(None, 1), dtype=float32)\n",
      "Warning: Rectangle boundary_normal called on vertices. You may use PDE(..., exclusions=...) to exclude the vertices.\n",
      "(None, 2)\n",
      "(None, 3)\n",
      "Tensor(\"strided_slice_95:0\", shape=(None, 1), dtype=float32)\n",
      "Tensor(\"strided_slice_96:0\", shape=(None, 1), dtype=float32)\n",
      "Tensor(\"strided_slice_97:0\", shape=(None, 1), dtype=float32)\n",
      "Tensor(\"strided_slice_98:0\", shape=(None, 1), dtype=float32)\n",
      "Warning: Rectangle boundary_normal called on vertices. You may use PDE(..., exclusions=...) to exclude the vertices.\n",
      "'compile' took 0.708638 s\n",
      "\n",
      "Warning: epochs is deprecated and will be removed in a future version. Use iterations instead.\n",
      "Initializing variables...\n",
      "Training model...\n",
      "\n",
      "Step      Train loss                                            Test loss                                             Test metric\n",
      "0         [9.81e-01, 3.85e+05, 1.12e-03, 1.94e-02, 4.09e-01]    [7.67e-01, 4.80e+03, 1.12e-03, 1.94e-02, 4.09e-01]    []  \n",
      "1         [2.13e+01, 7.65e+06, 1.19e-03, 1.82e-02, 8.62e-01]    [1.93e+01, 6.69e+04, 1.19e-03, 1.82e-02, 8.62e-01]    []  \n",
      "\n",
      "Best model at step 0:\n",
      "  train loss: 3.85e+05\n",
      "  test loss: 4.80e+03\n",
      "  test metric: []\n",
      "\n",
      "'train' took 6.385879 s\n",
      "\n",
      "Compiling model...\n",
      "(None, 2)\n",
      "(None, 3)\n",
      "Tensor(\"strided_slice_108:0\", shape=(None, 1), dtype=float32)\n",
      "Tensor(\"strided_slice_109:0\", shape=(None, 1), dtype=float32)\n",
      "Tensor(\"strided_slice_110:0\", shape=(None, 1), dtype=float32)\n",
      "Tensor(\"strided_slice_111:0\", shape=(None, 1), dtype=float32)\n",
      "Warning: Rectangle boundary_normal called on vertices. You may use PDE(..., exclusions=...) to exclude the vertices.\n",
      "(None, 2)\n",
      "(None, 3)\n",
      "Tensor(\"strided_slice_121:0\", shape=(None, 1), dtype=float32)\n",
      "Tensor(\"strided_slice_122:0\", shape=(None, 1), dtype=float32)\n",
      "Tensor(\"strided_slice_123:0\", shape=(None, 1), dtype=float32)\n",
      "Tensor(\"strided_slice_124:0\", shape=(None, 1), dtype=float32)\n",
      "Warning: Rectangle boundary_normal called on vertices. You may use PDE(..., exclusions=...) to exclude the vertices.\n",
      "'compile' took 0.748858 s\n",
      "\n",
      "Warning: epochs is deprecated and will be removed in a future version. Use iterations instead.\n",
      "Initializing variables...\n",
      "Training model...\n",
      "\n",
      "Step      Train loss                                            Test loss                                             Test metric\n",
      "0         [9.68e-01, 4.56e+02, 1.14e-03, 3.18e-01, 2.33e-01]    [4.95e-01, 3.30e+00, 1.14e-03, 3.18e-01, 2.33e-01]    []  \n",
      "1         [7.23e+00, 3.49e+02, 1.60e-03, 6.19e-01, 4.08e-01]    [4.80e+00, 9.34e+01, 1.60e-03, 6.19e-01, 4.08e-01]    []  \n",
      "\n",
      "Best model at step 1:\n",
      "  train loss: 3.57e+02\n",
      "  test loss: 9.92e+01\n",
      "  test metric: []\n",
      "\n",
      "'train' took 6.463120 s\n",
      "\n",
      "Compiling model...\n",
      "(None, 2)\n",
      "(None, 3)\n",
      "Tensor(\"strided_slice_134:0\", shape=(None, 1), dtype=float32)\n",
      "Tensor(\"strided_slice_135:0\", shape=(None, 1), dtype=float32)\n",
      "Tensor(\"strided_slice_136:0\", shape=(None, 1), dtype=float32)\n",
      "Tensor(\"strided_slice_137:0\", shape=(None, 1), dtype=float32)\n",
      "Warning: Rectangle boundary_normal called on vertices. You may use PDE(..., exclusions=...) to exclude the vertices.\n",
      "(None, 2)\n",
      "(None, 3)\n",
      "Tensor(\"strided_slice_147:0\", shape=(None, 1), dtype=float32)\n",
      "Tensor(\"strided_slice_148:0\", shape=(None, 1), dtype=float32)\n",
      "Tensor(\"strided_slice_149:0\", shape=(None, 1), dtype=float32)\n",
      "Tensor(\"strided_slice_150:0\", shape=(None, 1), dtype=float32)\n",
      "Warning: Rectangle boundary_normal called on vertices. You may use PDE(..., exclusions=...) to exclude the vertices.\n",
      "'compile' took 0.766157 s\n",
      "\n",
      "Warning: epochs is deprecated and will be removed in a future version. Use iterations instead.\n",
      "Initializing variables...\n",
      "Training model...\n",
      "\n",
      "Step      Train loss                                            Test loss                                             Test metric\n",
      "0         [1.38e+01, 1.33e+02, 1.85e-03, 3.87e-02, 8.67e-01]    [1.43e+01, 7.33e-02, 1.85e-03, 3.87e-02, 8.67e-01]    []  \n",
      "1         [2.21e+01, 6.97e-02, 1.39e-03, 6.06e-02, 9.66e-01]    [2.29e+01, 6.59e-02, 1.39e-03, 6.06e-02, 9.66e-01]    []  \n",
      "\n",
      "Best model at step 1:\n",
      "  train loss: 2.32e+01\n",
      "  test loss: 2.40e+01\n",
      "  test metric: []\n",
      "\n",
      "'train' took 6.599967 s\n",
      "\n",
      "Compiling model...\n",
      "(None, 2)\n",
      "(None, 3)\n",
      "Tensor(\"strided_slice_160:0\", shape=(None, 1), dtype=float32)\n",
      "Tensor(\"strided_slice_161:0\", shape=(None, 1), dtype=float32)\n",
      "Tensor(\"strided_slice_162:0\", shape=(None, 1), dtype=float32)\n",
      "Tensor(\"strided_slice_163:0\", shape=(None, 1), dtype=float32)\n",
      "Warning: Rectangle boundary_normal called on vertices. You may use PDE(..., exclusions=...) to exclude the vertices.\n",
      "(None, 2)\n",
      "(None, 3)\n",
      "Tensor(\"strided_slice_173:0\", shape=(None, 1), dtype=float32)\n",
      "Tensor(\"strided_slice_174:0\", shape=(None, 1), dtype=float32)\n",
      "Tensor(\"strided_slice_175:0\", shape=(None, 1), dtype=float32)\n",
      "Tensor(\"strided_slice_176:0\", shape=(None, 1), dtype=float32)\n",
      "Warning: Rectangle boundary_normal called on vertices. You may use PDE(..., exclusions=...) to exclude the vertices.\n",
      "'compile' took 0.786429 s\n",
      "\n",
      "Warning: epochs is deprecated and will be removed in a future version. Use iterations instead.\n",
      "Initializing variables...\n",
      "Training model...\n",
      "\n",
      "Step      Train loss                                            Test loss                                             Test metric\n",
      "0         [4.96e-01, 3.37e+04, 8.93e-04, 2.95e-02, 4.45e-01]    [4.25e-01, 1.91e+02, 8.93e-04, 2.95e-02, 4.45e-01]    []  \n",
      "1         [1.11e-01, 2.52e-02, 9.31e-04, 7.09e-02, 2.87e-01]    [1.08e-01, 1.70e-02, 9.31e-04, 7.09e-02, 2.87e-01]    []  \n",
      "\n",
      "Best model at step 1:\n",
      "  train loss: 4.94e-01\n",
      "  test loss: 4.84e-01\n",
      "  test metric: []\n",
      "\n",
      "'train' took 6.416502 s\n",
      "\n",
      "Compiling model...\n",
      "(None, 2)\n",
      "(None, 3)\n",
      "Tensor(\"strided_slice_186:0\", shape=(None, 1), dtype=float32)\n",
      "Tensor(\"strided_slice_187:0\", shape=(None, 1), dtype=float32)\n",
      "Tensor(\"strided_slice_188:0\", shape=(None, 1), dtype=float32)\n",
      "Tensor(\"strided_slice_189:0\", shape=(None, 1), dtype=float32)\n",
      "Warning: Rectangle boundary_normal called on vertices. You may use PDE(..., exclusions=...) to exclude the vertices.\n",
      "(None, 2)\n",
      "(None, 3)\n",
      "Tensor(\"strided_slice_199:0\", shape=(None, 1), dtype=float32)\n",
      "Tensor(\"strided_slice_200:0\", shape=(None, 1), dtype=float32)\n",
      "Tensor(\"strided_slice_201:0\", shape=(None, 1), dtype=float32)\n",
      "Tensor(\"strided_slice_202:0\", shape=(None, 1), dtype=float32)\n",
      "Warning: Rectangle boundary_normal called on vertices. You may use PDE(..., exclusions=...) to exclude the vertices.\n",
      "'compile' took 0.812061 s\n",
      "\n",
      "Warning: epochs is deprecated and will be removed in a future version. Use iterations instead.\n",
      "Initializing variables...\n",
      "Training model...\n",
      "\n",
      "Step      Train loss                                            Test loss                                             Test metric\n",
      "0         [5.25e-02, 3.32e-01, 7.30e-04, 5.30e-03, 2.99e-01]    [5.53e-02, 3.74e-01, 7.30e-04, 5.30e-03, 2.99e-01]    []  \n",
      "1         [3.89e-01, 1.66e-01, 5.54e-04, 3.55e-03, 1.71e-01]    [3.89e-01, 1.70e-01, 5.54e-04, 3.55e-03, 1.71e-01]    []  \n",
      "\n",
      "Best model at step 0:\n",
      "  train loss: 6.89e-01\n",
      "  test loss: 7.35e-01\n",
      "  test metric: []\n",
      "\n",
      "'train' took 6.689488 s\n",
      "\n",
      "Compiling model...\n",
      "(None, 2)\n",
      "(None, 3)\n",
      "Tensor(\"strided_slice_212:0\", shape=(None, 1), dtype=float32)\n",
      "Tensor(\"strided_slice_213:0\", shape=(None, 1), dtype=float32)\n",
      "Tensor(\"strided_slice_214:0\", shape=(None, 1), dtype=float32)\n",
      "Tensor(\"strided_slice_215:0\", shape=(None, 1), dtype=float32)\n",
      "Warning: Rectangle boundary_normal called on vertices. You may use PDE(..., exclusions=...) to exclude the vertices.\n",
      "(None, 2)\n",
      "(None, 3)\n",
      "Tensor(\"strided_slice_225:0\", shape=(None, 1), dtype=float32)\n",
      "Tensor(\"strided_slice_226:0\", shape=(None, 1), dtype=float32)\n",
      "Tensor(\"strided_slice_227:0\", shape=(None, 1), dtype=float32)\n",
      "Tensor(\"strided_slice_228:0\", shape=(None, 1), dtype=float32)\n",
      "Warning: Rectangle boundary_normal called on vertices. You may use PDE(..., exclusions=...) to exclude the vertices.\n",
      "'compile' took 1.177033 s\n",
      "\n",
      "Warning: epochs is deprecated and will be removed in a future version. Use iterations instead.\n"
     ]
    },
    {
     "name": "stderr",
     "output_type": "stream",
     "text": [
      "2023-02-17 16:18:03.699591: W tensorflow/c/c_api.cc:291] Operation '{name:'dense_5/bias/Adam_1/Assign' id:2033 op device:{requested: '', assigned: ''} def:{{{node dense_5/bias/Adam_1/Assign}} = Assign[T=DT_FLOAT, _class=[\"loc:@dense_5/bias\"], _has_manual_control_dependencies=true, use_locking=true, validate_shape=true](dense_5/bias/Adam_1, dense_5/bias/Adam_1/Initializer/zeros)}}' was changed by setting attribute after it was run by a session. This mutation will have no effect, and will trigger an error in the future. Either don't modify nodes after running them or create a new session.\n",
      "2023-02-17 16:18:04.311065: W tensorflow/c/c_api.cc:291] Operation '{name:'dense_5/bias/Adam_17/Assign' id:16595 op device:{requested: '', assigned: ''} def:{{{node dense_5/bias/Adam_17/Assign}} = Assign[T=DT_FLOAT, _class=[\"loc:@dense_5/bias\"], _has_manual_control_dependencies=true, use_locking=true, validate_shape=true](dense_5/bias/Adam_17, dense_5/bias/Adam_17/Initializer/zeros)}}' was changed by setting attribute after it was run by a session. This mutation will have no effect, and will trigger an error in the future. Either don't modify nodes after running them or create a new session.\n"
     ]
    },
    {
     "name": "stdout",
     "output_type": "stream",
     "text": [
      "Training model...\n",
      "\n",
      "Step      Train loss                                            Test loss                                             Test metric\n",
      "1         [0.00e+00, 0.00e+00, 0.00e+00, 0.00e+00, 6.71e-01]    [0.00e+00, 0.00e+00, 0.00e+00, 0.00e+00, 6.71e-01]    []  \n",
      "1000      [0.00e+00, 0.00e+00, 0.00e+00, 0.00e+00, 2.69e-03]    [0.00e+00, 0.00e+00, 0.00e+00, 0.00e+00, 2.69e-03]    []  \n"
     ]
    }
   ],
   "source": [
    "model, losshistory, train_state = train(model, out_path)"
   ]
  },
  {
   "cell_type": "code",
   "execution_count": null,
   "metadata": {},
   "outputs": [],
   "source": [
    "pred = model.predict(observe_test)\n",
    "v_pred = pred[:,0:1]\n",
    "rmse_v = np.sqrt(np.square(v_pred - v_test).mean())\n",
    "print(\"V rMSE for test data:\", rmse_v)"
   ]
  }
 ],
 "metadata": {
  "kernelspec": {
   "display_name": "PINNs_gpu",
   "language": "python",
   "name": "pinns_gpu"
  },
  "language_info": {
   "codemirror_mode": {
    "name": "ipython",
    "version": 3
   },
   "file_extension": ".py",
   "mimetype": "text/x-python",
   "name": "python",
   "nbconvert_exporter": "python",
   "pygments_lexer": "ipython3",
   "version": "3.10.4"
  }
 },
 "nbformat": 4,
 "nbformat_minor": 2
}
