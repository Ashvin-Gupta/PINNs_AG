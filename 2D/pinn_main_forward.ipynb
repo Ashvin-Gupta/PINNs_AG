{
 "cells": [
  {
   "cell_type": "code",
   "execution_count": 44,
   "metadata": {
    "colab": {
     "base_uri": "https://localhost:8080/"
    },
    "id": "uBKaQUatEXdX",
    "outputId": "c5898684-6f1c-4b62-d044-4a3dfbe1db2a"
   },
   "outputs": [
    {
     "name": "stdout",
     "output_type": "stream",
     "text": [
      "Requirement already satisfied: DeepXDE==0.10 in /Library/Frameworks/Python.framework/Versions/3.9/lib/python3.9/site-packages (0.10.0)\n",
      "Requirement already satisfied: salib in /Library/Frameworks/Python.framework/Versions/3.9/lib/python3.9/site-packages (from DeepXDE==0.10) (1.4.5)\n",
      "Requirement already satisfied: matplotlib in /Library/Frameworks/Python.framework/Versions/3.9/lib/python3.9/site-packages (from DeepXDE==0.10) (3.6.0)\n",
      "Requirement already satisfied: tensorflow>=2.2.0 in /Library/Frameworks/Python.framework/Versions/3.9/lib/python3.9/site-packages (from DeepXDE==0.10) (2.10.0)\n",
      "Requirement already satisfied: scikit-learn in /Library/Frameworks/Python.framework/Versions/3.9/lib/python3.9/site-packages (from DeepXDE==0.10) (1.1.2)\n",
      "Requirement already satisfied: numpy in /Library/Frameworks/Python.framework/Versions/3.9/lib/python3.9/site-packages (from DeepXDE==0.10) (1.22.3)\n",
      "Requirement already satisfied: scipy in /Library/Frameworks/Python.framework/Versions/3.9/lib/python3.9/site-packages (from DeepXDE==0.10) (1.8.0)\n",
      "Requirement already satisfied: termcolor>=1.1.0 in /Library/Frameworks/Python.framework/Versions/3.9/lib/python3.9/site-packages (from tensorflow>=2.2.0->DeepXDE==0.10) (2.0.1)\n",
      "Requirement already satisfied: gast<=0.4.0,>=0.2.1 in /Library/Frameworks/Python.framework/Versions/3.9/lib/python3.9/site-packages (from tensorflow>=2.2.0->DeepXDE==0.10) (0.4.0)\n",
      "Requirement already satisfied: keras<2.11,>=2.10.0 in /Library/Frameworks/Python.framework/Versions/3.9/lib/python3.9/site-packages (from tensorflow>=2.2.0->DeepXDE==0.10) (2.10.0)\n",
      "Requirement already satisfied: opt-einsum>=2.3.2 in /Library/Frameworks/Python.framework/Versions/3.9/lib/python3.9/site-packages (from tensorflow>=2.2.0->DeepXDE==0.10) (3.3.0)\n",
      "Requirement already satisfied: libclang>=13.0.0 in /Library/Frameworks/Python.framework/Versions/3.9/lib/python3.9/site-packages (from tensorflow>=2.2.0->DeepXDE==0.10) (14.0.6)\n",
      "Requirement already satisfied: astunparse>=1.6.0 in /Library/Frameworks/Python.framework/Versions/3.9/lib/python3.9/site-packages (from tensorflow>=2.2.0->DeepXDE==0.10) (1.6.3)\n",
      "Requirement already satisfied: h5py>=2.9.0 in /Library/Frameworks/Python.framework/Versions/3.9/lib/python3.9/site-packages (from tensorflow>=2.2.0->DeepXDE==0.10) (3.7.0)\n",
      "Requirement already satisfied: setuptools in /Library/Frameworks/Python.framework/Versions/3.9/lib/python3.9/site-packages (from tensorflow>=2.2.0->DeepXDE==0.10) (58.1.0)\n",
      "Requirement already satisfied: flatbuffers>=2.0 in /Library/Frameworks/Python.framework/Versions/3.9/lib/python3.9/site-packages (from tensorflow>=2.2.0->DeepXDE==0.10) (2.0.7)\n",
      "Requirement already satisfied: absl-py>=1.0.0 in /Library/Frameworks/Python.framework/Versions/3.9/lib/python3.9/site-packages (from tensorflow>=2.2.0->DeepXDE==0.10) (1.1.0)\n",
      "Requirement already satisfied: grpcio<2.0,>=1.24.3 in /Library/Frameworks/Python.framework/Versions/3.9/lib/python3.9/site-packages (from tensorflow>=2.2.0->DeepXDE==0.10) (1.48.1)\n",
      "Requirement already satisfied: packaging in /Library/Frameworks/Python.framework/Versions/3.9/lib/python3.9/site-packages (from tensorflow>=2.2.0->DeepXDE==0.10) (21.3)\n",
      "Requirement already satisfied: typing-extensions>=3.6.6 in /Library/Frameworks/Python.framework/Versions/3.9/lib/python3.9/site-packages (from tensorflow>=2.2.0->DeepXDE==0.10) (4.3.0)\n",
      "Requirement already satisfied: tensorflow-estimator<2.11,>=2.10.0 in /Library/Frameworks/Python.framework/Versions/3.9/lib/python3.9/site-packages (from tensorflow>=2.2.0->DeepXDE==0.10) (2.10.0)\n",
      "Requirement already satisfied: google-pasta>=0.1.1 in /Library/Frameworks/Python.framework/Versions/3.9/lib/python3.9/site-packages (from tensorflow>=2.2.0->DeepXDE==0.10) (0.2.0)\n",
      "Requirement already satisfied: tensorflow-io-gcs-filesystem>=0.23.1 in /Library/Frameworks/Python.framework/Versions/3.9/lib/python3.9/site-packages (from tensorflow>=2.2.0->DeepXDE==0.10) (0.27.0)\n",
      "Requirement already satisfied: tensorboard<2.11,>=2.10 in /Library/Frameworks/Python.framework/Versions/3.9/lib/python3.9/site-packages (from tensorflow>=2.2.0->DeepXDE==0.10) (2.10.0)\n",
      "Requirement already satisfied: six>=1.12.0 in /Library/Frameworks/Python.framework/Versions/3.9/lib/python3.9/site-packages (from tensorflow>=2.2.0->DeepXDE==0.10) (1.16.0)\n",
      "Requirement already satisfied: protobuf<3.20,>=3.9.2 in /Library/Frameworks/Python.framework/Versions/3.9/lib/python3.9/site-packages (from tensorflow>=2.2.0->DeepXDE==0.10) (3.19.5)\n",
      "Requirement already satisfied: keras-preprocessing>=1.1.1 in /Library/Frameworks/Python.framework/Versions/3.9/lib/python3.9/site-packages (from tensorflow>=2.2.0->DeepXDE==0.10) (1.1.2)\n",
      "Requirement already satisfied: wrapt>=1.11.0 in /Library/Frameworks/Python.framework/Versions/3.9/lib/python3.9/site-packages (from tensorflow>=2.2.0->DeepXDE==0.10) (1.14.1)\n",
      "Requirement already satisfied: pyparsing>=2.2.1 in /Library/Frameworks/Python.framework/Versions/3.9/lib/python3.9/site-packages (from matplotlib->DeepXDE==0.10) (3.0.8)\n",
      "Requirement already satisfied: fonttools>=4.22.0 in /Library/Frameworks/Python.framework/Versions/3.9/lib/python3.9/site-packages (from matplotlib->DeepXDE==0.10) (4.37.3)\n",
      "Requirement already satisfied: pillow>=6.2.0 in /Library/Frameworks/Python.framework/Versions/3.9/lib/python3.9/site-packages (from matplotlib->DeepXDE==0.10) (9.2.0)\n",
      "Requirement already satisfied: contourpy>=1.0.1 in /Library/Frameworks/Python.framework/Versions/3.9/lib/python3.9/site-packages (from matplotlib->DeepXDE==0.10) (1.0.5)\n",
      "Requirement already satisfied: cycler>=0.10 in /Library/Frameworks/Python.framework/Versions/3.9/lib/python3.9/site-packages (from matplotlib->DeepXDE==0.10) (0.11.0)\n",
      "Requirement already satisfied: python-dateutil>=2.7 in /Library/Frameworks/Python.framework/Versions/3.9/lib/python3.9/site-packages (from matplotlib->DeepXDE==0.10) (2.8.2)\n",
      "Requirement already satisfied: kiwisolver>=1.0.1 in /Library/Frameworks/Python.framework/Versions/3.9/lib/python3.9/site-packages (from matplotlib->DeepXDE==0.10) (1.4.4)\n",
      "Requirement already satisfied: pandas in /Library/Frameworks/Python.framework/Versions/3.9/lib/python3.9/site-packages (from salib->DeepXDE==0.10) (1.5.0)\n",
      "Requirement already satisfied: pathos in /Library/Frameworks/Python.framework/Versions/3.9/lib/python3.9/site-packages (from salib->DeepXDE==0.10) (0.2.9)\n",
      "Requirement already satisfied: wheel in /Library/Frameworks/Python.framework/Versions/3.9/lib/python3.9/site-packages (from salib->DeepXDE==0.10) (0.37.1)\n",
      "Requirement already satisfied: joblib>=1.0.0 in /Library/Frameworks/Python.framework/Versions/3.9/lib/python3.9/site-packages (from scikit-learn->DeepXDE==0.10) (1.2.0)\n",
      "Requirement already satisfied: threadpoolctl>=2.0.0 in /Library/Frameworks/Python.framework/Versions/3.9/lib/python3.9/site-packages (from scikit-learn->DeepXDE==0.10) (3.1.0)\n",
      "Requirement already satisfied: google-auth<3,>=1.6.3 in /Library/Frameworks/Python.framework/Versions/3.9/lib/python3.9/site-packages (from tensorboard<2.11,>=2.10->tensorflow>=2.2.0->DeepXDE==0.10) (2.11.1)\n",
      "Requirement already satisfied: tensorboard-plugin-wit>=1.6.0 in /Library/Frameworks/Python.framework/Versions/3.9/lib/python3.9/site-packages (from tensorboard<2.11,>=2.10->tensorflow>=2.2.0->DeepXDE==0.10) (1.8.1)\n",
      "Requirement already satisfied: werkzeug>=1.0.1 in /Library/Frameworks/Python.framework/Versions/3.9/lib/python3.9/site-packages (from tensorboard<2.11,>=2.10->tensorflow>=2.2.0->DeepXDE==0.10) (2.2.2)\n",
      "Requirement already satisfied: google-auth-oauthlib<0.5,>=0.4.1 in /Library/Frameworks/Python.framework/Versions/3.9/lib/python3.9/site-packages (from tensorboard<2.11,>=2.10->tensorflow>=2.2.0->DeepXDE==0.10) (0.4.6)\n",
      "Requirement already satisfied: markdown>=2.6.8 in /Library/Frameworks/Python.framework/Versions/3.9/lib/python3.9/site-packages (from tensorboard<2.11,>=2.10->tensorflow>=2.2.0->DeepXDE==0.10) (3.4.1)\n",
      "Requirement already satisfied: tensorboard-data-server<0.7.0,>=0.6.0 in /Library/Frameworks/Python.framework/Versions/3.9/lib/python3.9/site-packages (from tensorboard<2.11,>=2.10->tensorflow>=2.2.0->DeepXDE==0.10) (0.6.1)\n",
      "Requirement already satisfied: requests<3,>=2.21.0 in /Library/Frameworks/Python.framework/Versions/3.9/lib/python3.9/site-packages (from tensorboard<2.11,>=2.10->tensorflow>=2.2.0->DeepXDE==0.10) (2.28.1)\n"
     ]
    },
    {
     "name": "stdout",
     "output_type": "stream",
     "text": [
      "Requirement already satisfied: pytz>=2020.1 in /Library/Frameworks/Python.framework/Versions/3.9/lib/python3.9/site-packages (from pandas->salib->DeepXDE==0.10) (2022.2.1)\n",
      "Requirement already satisfied: ppft>=1.7.6.5 in /Library/Frameworks/Python.framework/Versions/3.9/lib/python3.9/site-packages (from pathos->salib->DeepXDE==0.10) (1.7.6.5)\n",
      "Requirement already satisfied: dill>=0.3.5.1 in /Library/Frameworks/Python.framework/Versions/3.9/lib/python3.9/site-packages (from pathos->salib->DeepXDE==0.10) (0.3.5.1)\n",
      "Requirement already satisfied: pox>=0.3.1 in /Library/Frameworks/Python.framework/Versions/3.9/lib/python3.9/site-packages (from pathos->salib->DeepXDE==0.10) (0.3.1)\n",
      "Requirement already satisfied: multiprocess>=0.70.13 in /Library/Frameworks/Python.framework/Versions/3.9/lib/python3.9/site-packages (from pathos->salib->DeepXDE==0.10) (0.70.13)\n",
      "Requirement already satisfied: rsa<5,>=3.1.4 in /Library/Frameworks/Python.framework/Versions/3.9/lib/python3.9/site-packages (from google-auth<3,>=1.6.3->tensorboard<2.11,>=2.10->tensorflow>=2.2.0->DeepXDE==0.10) (4.9)\n",
      "Requirement already satisfied: cachetools<6.0,>=2.0.0 in /Library/Frameworks/Python.framework/Versions/3.9/lib/python3.9/site-packages (from google-auth<3,>=1.6.3->tensorboard<2.11,>=2.10->tensorflow>=2.2.0->DeepXDE==0.10) (5.2.0)\n",
      "Requirement already satisfied: pyasn1-modules>=0.2.1 in /Library/Frameworks/Python.framework/Versions/3.9/lib/python3.9/site-packages (from google-auth<3,>=1.6.3->tensorboard<2.11,>=2.10->tensorflow>=2.2.0->DeepXDE==0.10) (0.2.8)\n",
      "Requirement already satisfied: requests-oauthlib>=0.7.0 in /Library/Frameworks/Python.framework/Versions/3.9/lib/python3.9/site-packages (from google-auth-oauthlib<0.5,>=0.4.1->tensorboard<2.11,>=2.10->tensorflow>=2.2.0->DeepXDE==0.10) (1.3.1)\n",
      "Requirement already satisfied: importlib-metadata>=4.4 in /Library/Frameworks/Python.framework/Versions/3.9/lib/python3.9/site-packages (from markdown>=2.6.8->tensorboard<2.11,>=2.10->tensorflow>=2.2.0->DeepXDE==0.10) (4.12.0)\n",
      "Requirement already satisfied: idna<4,>=2.5 in /Library/Frameworks/Python.framework/Versions/3.9/lib/python3.9/site-packages (from requests<3,>=2.21.0->tensorboard<2.11,>=2.10->tensorflow>=2.2.0->DeepXDE==0.10) (3.4)\n",
      "Requirement already satisfied: urllib3<1.27,>=1.21.1 in /Library/Frameworks/Python.framework/Versions/3.9/lib/python3.9/site-packages (from requests<3,>=2.21.0->tensorboard<2.11,>=2.10->tensorflow>=2.2.0->DeepXDE==0.10) (1.26.12)\n",
      "Requirement already satisfied: certifi>=2017.4.17 in /Library/Frameworks/Python.framework/Versions/3.9/lib/python3.9/site-packages (from requests<3,>=2.21.0->tensorboard<2.11,>=2.10->tensorflow>=2.2.0->DeepXDE==0.10) (2022.9.14)\n",
      "Requirement already satisfied: charset-normalizer<3,>=2 in /Library/Frameworks/Python.framework/Versions/3.9/lib/python3.9/site-packages (from requests<3,>=2.21.0->tensorboard<2.11,>=2.10->tensorflow>=2.2.0->DeepXDE==0.10) (2.1.1)\n",
      "Requirement already satisfied: MarkupSafe>=2.1.1 in /Library/Frameworks/Python.framework/Versions/3.9/lib/python3.9/site-packages (from werkzeug>=1.0.1->tensorboard<2.11,>=2.10->tensorflow>=2.2.0->DeepXDE==0.10) (2.1.1)\n",
      "Requirement already satisfied: zipp>=0.5 in /Library/Frameworks/Python.framework/Versions/3.9/lib/python3.9/site-packages (from importlib-metadata>=4.4->markdown>=2.6.8->tensorboard<2.11,>=2.10->tensorflow>=2.2.0->DeepXDE==0.10) (3.8.1)\n",
      "Requirement already satisfied: pyasn1<0.5.0,>=0.4.6 in /Library/Frameworks/Python.framework/Versions/3.9/lib/python3.9/site-packages (from pyasn1-modules>=0.2.1->google-auth<3,>=1.6.3->tensorboard<2.11,>=2.10->tensorflow>=2.2.0->DeepXDE==0.10) (0.4.8)\n",
      "Requirement already satisfied: oauthlib>=3.0.0 in /Library/Frameworks/Python.framework/Versions/3.9/lib/python3.9/site-packages (from requests-oauthlib>=0.7.0->google-auth-oauthlib<0.5,>=0.4.1->tensorboard<2.11,>=2.10->tensorflow>=2.2.0->DeepXDE==0.10) (3.2.1)\n",
      "/bin/bash: nvidia-smi: command not found\n"
     ]
    }
   ],
   "source": [
    "!pip install DeepXDE==0.10\n",
    "\n",
    "gpu_info = !nvidia-smi\n",
    "gpu_info = '\\n'.join(gpu_info)\n",
    "if gpu_info.find('failed') >= 0:\n",
    "  print('Select the Runtime > \"Change runtime type\" menu to enable a GPU accelerator, ')\n",
    "  print('and then re-execute this cell.')\n",
    "else:\n",
    "  print(gpu_info)"
   ]
  },
  {
   "cell_type": "code",
   "execution_count": 54,
   "metadata": {},
   "outputs": [],
   "source": [
    "import sys\n",
    "import os\n",
    "#dir_path = os.path.dirname(os.path.realpath(__file__))\n",
    "#sys.path.append(dir_path)\n",
    "from sklearn.model_selection import train_test_split\n",
    "import matplotlib.pyplot as plt\n",
    "import argparse\n",
    "import scipy.io\n",
    "import numpy as np\n",
    "import deepxde as dde # version 0.11 or higher\n",
    "from deepxde.backend import tf"
   ]
  },
  {
   "cell_type": "code",
   "execution_count": 46,
   "metadata": {},
   "outputs": [],
   "source": [
    "## Network Parameters\n",
    "# 1D\n",
    "input_1d = 2 # network input size (1D) # dimension of the X\n",
    "num_hidden_layers_1d = 4 # number of hidden layers for NN (1D)\n",
    "hidden_layer_size_1d = 32 # size of each hidden layers (1D)\n",
    "output_1d = 3 # network output size (1D)\n",
    "# 2D\n",
    "input_2d = 3 # network input size (2D)\n",
    "num_hidden_layers_2d = 4 # number of hidden layers for NN (2D)\n",
    "hidden_layer_size_2d = 32 # size of each hidden layers (2D)\n",
    "output_2d = 3 # network output size (2D)\n",
    "output_heter = 3 # network output size for heterogeneity case (2D)\n",
    "## Training Parameters\n",
    "num_domain = 20000 # number of training points within the domain\n",
    "num_boundary = 1000 # number of training boundary condition points on the geometry boundary\n",
    "num_test = 1000 # number of testing points within the domain\n",
    "MAX_MODEL_INIT = 24 #16 # maximum number of times allowed to initialize the model\n",
    "MAX_LOSS = 4 # upper limit to the initialized loss\n",
    "epochs = 60000 #60000 # number of epochs for training\n",
    "lr =  0.0005 # learning rate\n",
    "noise = 0 #0.1 # noise factor\n",
    "test_size = 0.9 # precentage of testing data"
   ]
  },
  {
   "cell_type": "code",
   "execution_count": 145,
   "metadata": {},
   "outputs": [],
   "source": [
    "## FentonKarma additions\n",
    "\n",
    "pars = scipy.io.loadmat(\"FKpars2.mat\")\n",
    "ini = pars[\"ini\"]\n",
    "\n",
    "# print(np.shape(ini))\n",
    "nset = 6 \n",
    "\n",
    "uv=float(ini[nset-1,12-1])\n",
    "uw=uv\n",
    "uu=uw\n",
    "uvsi=float(ini[nset-1,13-1])\n",
    "ucsi=float(ini[nset-1,11-1])\n",
    "k=float(ini[nset-1,10-1])\n",
    "taud=float(ini[nset-1,6-1])\n",
    "tauv2=float(ini[nset-1,3-1])\n",
    "tauv1=float(ini[nset-1,2-1])\n",
    "tauvplus=float(ini[nset-1,1-1])\n",
    "tauo=float(ini[nset-1,7-1])\n",
    "tauwminus=float(ini[nset-1,5-1])\n",
    "tauwplus=float(ini[nset-1,4-1])\n",
    "taur=float(ini[nset-1,8-1])\n",
    "tausi=float(ini[nset-1,9-1])\n",
    "\n",
    "D=0.0500"
   ]
  },
  {
   "cell_type": "code",
   "execution_count": 136,
   "metadata": {},
   "outputs": [
    {
     "name": "stdout",
     "output_type": "stream",
     "text": [
      "(2000000, 3)\n"
     ]
    }
   ],
   "source": [
    "filename = \"set6forPINNs.mat\"\n",
    "dim = 2\n",
    "data = scipy.io.loadmat(filename)\n",
    "if dim == 1:\n",
    "    T, X, usav, u0, x0 = data[\"T\"], data[\"X\"], data[\"ulin\"], data[\"u0\"], data[\"x0\"]\n",
    "elif dim == 2:\n",
    "    T, X, Y, usav, u0, x0 = data[\"T\"], data[\"X\"], data[\"Y\"], data[\"ulin\"], data[\"u0\"], data[\"x0\"]\n",
    "\n",
    "min_x = np.amin(X)\n",
    "max_x = np.amax(X)\n",
    "min_t = np.amin(T)\n",
    "max_t = np.amax(T)\n",
    "spacing = X[2]-X[1]\n",
    "if dim == 2:\n",
    "    min_y = np.amin(Y)\n",
    "    max_y = np.amax(Y)\n",
    "    observe_x=np.concatenate((X,Y,T),axis=1)\n",
    "elif dim==1:\n",
    "    observe_x=np.concatenate((X,T),axis=1)\n",
    "    \n",
    "print(np.shape(observe_x))"
   ]
  },
  {
   "cell_type": "code",
   "execution_count": 137,
   "metadata": {},
   "outputs": [],
   "source": [
    "def pde_1D(x, y):\n",
    "    u, v, w = y[:, 0:1], y[:, 1:2], y[:, 2:3]\n",
    "    dv_dt = dde.grad.jacobian(v, x, i=0, j=1)\n",
    "    du_dt = dde.grad.jacobian(u, x, i=0, j=1)\n",
    "    du_dxx = dde.grad.hessian(y, x, component=0, i=0, j=0)\n",
    "    dw_dt = dde.grad.jacobian(w, x, i=0, j=1)\n",
    "\n",
    "    tauv = tf.cast(tf.math.less_equal(uvsi, u),tf.float32)*tauv2 + tf.cast(tf.math.less_equal(u, uvsi),tf.float32)*tauv1\n",
    "    tauv = tf.cast(tf.math.less_equal(u, uv),tf.float32)*tauv + tf.cast(tf.math.less_equal(uv, u),tf.float32)*tauvplus\n",
    "    vinf = tf.cast(tf.math.less_equal(u, uv),tf.float32)\n",
    "    Fu = tf.cast(tf.math.less_equal(uv,u),tf.float32)*((u-uv)*(tf.ones([1],tf.float32)-u))\n",
    "    Jfi = Fu*(-v) / taud  \n",
    "    Uu = tf.cast(tf.math.less_equal(uu, u),tf.float32) + tf.cast(tf.math.less_equal(u, uu),tf.float32)*u\n",
    "    tauu = tf.cast(tf.math.less_equal(uu, u),tf.float32)*taur + tf.cast(tf.math.less_equal(u, uu),tf.float32)*tauo\n",
    "    Jso = Uu/tauu\n",
    "    winf = tf.cast(tf.math.less_equal(u, uw),tf.float32) + tf.cast(tf.math.less_equal(uw, u),tf.float32)*0\n",
    "    tauw = tf.cast(tf.math.less_equal(u, uw),tf.float32)*tauwminus + tf.cast(tf.math.less_equal(uw, u),tf.float32)*tauwplus\n",
    "    Jsi = -w/tausi/2*(tf.ones([1],tf.float32) + tf.nn.tanh(k*(u-ucsi)))\n",
    "\n",
    "    Iion = -(Jfi + Jsi + Jso) \n",
    "\n",
    "    eq_a = du_dt - (Iion+D*du_dxx)\n",
    "    eq_b = dv_dt - (vinf - v) / tauv\n",
    "    eq_c = dw_dt - (winf - w) / tauw\n",
    "\n",
    "    return [eq_a, eq_b, eq_c]"
   ]
  },
  {
   "cell_type": "code",
   "execution_count": 150,
   "metadata": {},
   "outputs": [],
   "source": [
    "def pde_2D(x, y):\n",
    "#     y=tf.cast(y,tf.float32)\n",
    "    u, v, w = y[:, 0:1], y[:, 1:2], y[:, 2:3]\n",
    "#     x=tf.cast(x,tf.float32)\n",
    "    dv_dt = dde.grad.jacobian(v, x, i=0, j=1)\n",
    "    du_dt = dde.grad.jacobian(u, x, i=0, j=1)\n",
    "    du_dxx = dde.grad.hessian(y, x, component=0, i=0, j=0)\n",
    "    du_dyy = dde.grad.hessian(y, x, component=0, i=1, j=1)\n",
    "    dw_dt = dde.grad.jacobian(w, x, i=0, j=1)\n",
    "    \n",
    "    tauv = tf.cast(tf.math.less_equal(uvsi, u),tf.float32)*tauv2 + tf.cast(tf.math.less_equal(u, uvsi),tf.float32)*tauv1\n",
    "    tauv = tf.cast(tf.math.less_equal(u, uv),tf.float32)*tauv + tf.cast(tf.math.less_equal(uv, u),tf.float32)*tauvplus\n",
    "    vinf = tf.cast(tf.math.less_equal(u, uv),tf.float32)\n",
    "    Fu = tf.cast(tf.math.less_equal(uv,u),tf.float32)*((u-uv)*(tf.ones([1],tf.float32)-u))\n",
    "    Jfi = Fu*(-v) / taud  \n",
    "    Uu = tf.cast(tf.math.less_equal(uu, u),tf.float32) + tf.cast(tf.math.less_equal(u, uu),tf.float32)*u\n",
    "    tauu = tf.cast(tf.math.less_equal(uu, u),tf.float32)*taur + tf.cast(tf.math.less_equal(u, uu),tf.float32)*tauo\n",
    "    Jso = Uu/tauu\n",
    "    winf = tf.cast(tf.math.less_equal(u, uw),tf.float32) + tf.cast(tf.math.less_equal(uw, u),tf.float32)*0\n",
    "    tauw = tf.cast(tf.math.less_equal(u, uw),tf.float32)*tauwminus + tf.cast(tf.math.less_equal(uw, u),tf.float32)*tauwplus\n",
    "    Jsi = -w/tausi/2*(tf.ones([1],tf.float32) + tf.nn.tanh(k*(u-ucsi)))\n",
    "\n",
    "\n",
    "    Iion = -(Jfi + Jsi + Jso) \n",
    "\n",
    "    eq_a = du_dt - (Iion+D*(du_dxx+du_dyy))\n",
    "    eq_b = dv_dt - (vinf - v) / tauv\n",
    "    eq_c = dw_dt - (winf - w) / tauw\n",
    "\n",
    "    return [eq_a, eq_b, eq_c]"
   ]
  },
  {
   "cell_type": "code",
   "execution_count": 151,
   "metadata": {},
   "outputs": [],
   "source": [
    "## Split into train and test data\n",
    "observe_train, observe_test, u_train, u_test = train_test_split(observe_x, usav, test_size=test_size)\n",
    "u_train = u_train + noise*np.random.randn(u_train.shape[0], u_train.shape[1])\n",
    "\n",
    "## Geometry and Time domains\n",
    "if dim == 1:\n",
    "    geom = dde.geometry.Interval(min_x, max_x)\n",
    "    timedomain = dde.geometry.TimeDomain(min_t, max_t)\n",
    "    geomtime = dde.geometry.GeometryXTime(geom, timedomain)\n",
    "elif dim == 2:\n",
    "    geom = dde.geometry.Rectangle([min_x,min_y], [max_x,max_y])\n",
    "    timedomain = dde.geometry.TimeDomain(min_t, max_t)\n",
    "    geomtime = dde.geometry.GeometryXTime(geom, timedomain)\n",
    "    \n",
    "## Define Boundary Conditions\n",
    "if dim == 1:\n",
    "    bc = dde.NeumannBC(geomtime, lambda x:  np.zeros((len(x), 1)), lambda _, on_boundary: on_boundary, component=0)\n",
    "elif dim == 2:\n",
    "    def boundary_func_2d(x, on_boundary):\n",
    "        return on_boundary and ~(x[0:2]==[min_x,min_y]).all() and  ~(x[0:2]==[min_x,max_y]).all() and ~(x[0:2]==[max_x,min_y]).all()  and  ~(x[0:2]==[max_x,max_y]).all()\n",
    "    bc = dde.NeumannBC(geomtime, lambda x:  np.zeros((len(x), 1)), boundary_func_2d, component=0)\n",
    "\n",
    "    ## Define Initial Conditions\n",
    "ic1 = dde.PointSetBC(x0,u0,component=0)\n",
    "# Consider adding the below\n",
    "# ic2 = dde.PointSetBC(observe_init,v_init,component=1)\n",
    "# ic3 = dde.PointSetBC(observe_init,w_init,component=2)\n",
    "\n",
    "## Model observed data\n",
    "observe_u = dde.PointSetBC(observe_train, u_train, component=0)\n",
    "input_data = [bc, ic1, observe_u]"
   ]
  },
  {
   "cell_type": "code",
   "execution_count": 153,
   "metadata": {},
   "outputs": [
    {
     "name": "stdout",
     "output_type": "stream",
     "text": [
      "Warning: 67 points required, but 81 points sampled.\n",
      "Warning: 1000 points required, but 1215 points sampled.\n"
     ]
    }
   ],
   "source": [
    "## Select relevant PDE (Dim, Heterogeneity) and define the Network\n",
    "if dim == 1:\n",
    "    pde = pde_1D\n",
    "    net = dde.maps.FNN([input_1d] + [hidden_layer_size_1d] * num_hidden_layers_1d + [output_1d], \"tanh\", \"Glorot uniform\")\n",
    "elif dim == 2:\n",
    "    pde = pde_2D\n",
    "    net = dde.maps.FNN([input_2d] + [hidden_layer_size_2d] * num_hidden_layers_2d + [output_2d], \"tanh\", \"Glorot uniform\")\n",
    "pde_data = dde.data.TimePDE(geomtime, pde, input_data,\n",
    "                        num_domain = num_domain,\n",
    "                        num_boundary=num_boundary,\n",
    "                        anchors=observe_train,\n",
    "                        num_test=num_test)\n",
    "model = dde.Model(pde_data, net)"
   ]
  },
  {
   "cell_type": "code",
   "execution_count": null,
   "metadata": {
    "colab": {
     "base_uri": "https://localhost:8080/",
     "height": 1000
    },
    "id": "W_Ui1sXlEgQr",
    "outputId": "77abf052-c00b-4391-f9f7-ecb34cfde01c"
   },
   "outputs": [
    {
     "name": "stdout",
     "output_type": "stream",
     "text": [
      "Compiling model...\n",
      "Warning: Rectangle boundary_normal called on vertices. You may use PDE(..., exclusions=...) to exclude the vertices.\n",
      "'compile' took 0.828907 s\n",
      "\n",
      "Initializing variables...\n",
      "Training model...\n",
      "\n",
      "0         [1.56e-01, 4.11e-03, 1.47e-04, 2.01e-04, 1.49e-01, 1.18e-01]    [1.28e-01, 3.25e-03, 1.26e-04, 2.01e-04, 1.49e-01, 1.18e-01]    []  \n",
      "1         [1.22e-01, 3.66e-03, 1.46e-04, 2.06e-04, 1.34e-01, 1.13e-01]    [8.73e-02, 2.87e-03, 1.25e-04, 2.06e-04, 1.34e-01, 1.13e-01]    []  \n",
      "\n",
      "Best model at step 1:\n",
      "  train loss: 3.73e-01\n",
      "  test loss: 3.38e-01\n",
      "  test metric: []\n",
      "\n",
      "'train' took 6.205405 s\n",
      "\n",
      "Training model...\n",
      "\n",
      "Step      Train loss                                                      Test loss                                                       Test metric\n",
      "1         [1.22e-01, 3.66e-03, 1.46e-04, 2.06e-04, 1.34e-01, 1.13e-01]    [8.73e-02, 2.87e-03, 1.25e-04, 2.06e-04, 1.34e-01, 1.13e-01]    []  \n",
      "1000      [4.88e-04, 5.60e-05, 3.92e-06, 1.12e-03, 5.93e-02, 7.20e-02]    [2.98e-04, 4.93e-05, 3.01e-06, 1.12e-03, 5.93e-02, 7.20e-02]    []  \n",
      "2000      [3.86e-04, 5.93e-05, 2.49e-06, 1.01e-03, 4.53e-02, 7.00e-02]    [1.96e-04, 5.26e-05, 1.87e-06, 1.01e-03, 4.53e-02, 7.00e-02]    []  \n",
      "3000      [4.11e-04, 5.67e-05, 1.88e-06, 8.68e-04, 3.73e-02, 6.90e-02]    [2.24e-04, 5.02e-05, 1.55e-06, 8.68e-04, 3.73e-02, 6.90e-02]    []  \n",
      "4000      [4.97e-04, 5.75e-05, 1.22e-06, 1.14e-03, 2.66e-02, 6.48e-02]    [2.56e-04, 5.00e-05, 1.05e-06, 1.14e-03, 2.66e-02, 6.48e-02]    []  \n",
      "5000      [4.80e-04, 6.04e-05, 1.14e-06, 1.16e-03, 1.64e-02, 6.33e-02]    [2.63e-04, 5.15e-05, 1.07e-06, 1.16e-03, 1.64e-02, 6.33e-02]    []  \n",
      "6000      [4.85e-04, 6.68e-05, 1.03e-06, 1.16e-03, 1.15e-02, 6.24e-02]    [2.54e-04, 5.43e-05, 1.01e-06, 1.16e-03, 1.15e-02, 6.24e-02]    []  \n",
      "7000      [4.84e-04, 7.08e-05, 1.04e-06, 1.21e-03, 9.09e-03, 6.16e-02]    [2.36e-04, 5.50e-05, 1.03e-06, 1.21e-03, 9.09e-03, 6.16e-02]    []  \n",
      "8000      [4.81e-04, 7.40e-05, 1.14e-06, 1.22e-03, 8.01e-03, 6.14e-02]    [2.25e-04, 5.70e-05, 1.10e-06, 1.22e-03, 8.01e-03, 6.14e-02]    []  \n",
      "9000      [4.84e-04, 7.14e-05, 1.12e-06, 1.27e-03, 6.84e-03, 6.03e-02]    [2.04e-04, 5.58e-05, 1.07e-06, 1.27e-03, 6.84e-03, 6.03e-02]    []  \n",
      "10000     [4.93e-04, 7.28e-05, 1.14e-06, 1.30e-03, 6.19e-03, 5.96e-02]    [2.01e-04, 5.73e-05, 1.07e-06, 1.30e-03, 6.19e-03, 5.96e-02]    []  \n",
      "11000     [5.18e-04, 7.43e-05, 1.15e-06, 1.32e-03, 5.64e-03, 5.90e-02]    [2.07e-04, 5.84e-05, 1.04e-06, 1.32e-03, 5.64e-03, 5.90e-02]    []  \n",
      "12000     [5.63e-04, 7.77e-05, 1.14e-06, 1.33e-03, 5.14e-03, 5.82e-02]    [2.27e-04, 6.01e-05, 1.02e-06, 1.33e-03, 5.14e-03, 5.82e-02]    []  \n",
      "13000     [5.99e-04, 8.10e-05, 1.15e-06, 1.32e-03, 4.69e-03, 5.74e-02]    [2.52e-04, 6.23e-05, 9.92e-07, 1.32e-03, 4.69e-03, 5.74e-02]    []  \n",
      "14000     [6.19e-04, 8.56e-05, 1.21e-06, 1.32e-03, 4.25e-03, 5.64e-02]    [2.69e-04, 6.61e-05, 1.01e-06, 1.32e-03, 4.25e-03, 5.64e-02]    []  \n",
      "15000     [6.34e-04, 9.06e-05, 1.18e-06, 1.30e-03, 3.89e-03, 5.48e-02]    [2.84e-04, 7.02e-05, 9.94e-07, 1.30e-03, 3.89e-03, 5.48e-02]    []  \n",
      "16000     [6.41e-04, 9.31e-05, 1.35e-06, 1.24e-03, 3.63e-03, 5.26e-02]    [3.08e-04, 7.69e-05, 1.12e-06, 1.24e-03, 3.63e-03, 5.26e-02]    []  \n",
      "17000     [6.18e-04, 1.05e-04, 1.52e-06, 1.24e-03, 4.19e-03, 5.38e-02]    [3.13e-04, 7.80e-05, 1.34e-06, 1.24e-03, 4.19e-03, 5.38e-02]    []  \n",
      "18000     [6.51e-04, 9.97e-05, 1.55e-06, 1.27e-03, 2.89e-03, 5.02e-02]    [3.43e-04, 8.14e-05, 1.27e-06, 1.27e-03, 2.89e-03, 5.02e-02]    []  \n",
      "19000     [6.62e-04, 1.06e-04, 1.46e-06, 1.24e-03, 2.55e-03, 4.95e-02]    [3.64e-04, 8.64e-05, 1.21e-06, 1.24e-03, 2.55e-03, 4.95e-02]    []  \n",
      "20000     [6.76e-04, 1.13e-04, 1.46e-06, 1.22e-03, 2.26e-03, 4.86e-02]    [3.83e-04, 9.13e-05, 1.19e-06, 1.22e-03, 2.26e-03, 4.86e-02]    []  \n",
      "21000     [7.06e-04, 1.21e-04, 1.62e-06, 1.25e-03, 2.04e-03, 4.75e-02]    [4.09e-04, 9.66e-05, 1.28e-06, 1.25e-03, 2.04e-03, 4.75e-02]    []  \n",
      "22000     [7.59e-04, 1.32e-04, 1.64e-06, 1.32e-03, 1.87e-03, 4.59e-02]    [4.56e-04, 1.05e-04, 1.35e-06, 1.32e-03, 1.87e-03, 4.59e-02]    []  \n",
      "23000     [8.01e-04, 1.43e-04, 1.57e-06, 1.39e-03, 1.71e-03, 4.44e-02]    [4.91e-04, 1.12e-04, 1.32e-06, 1.39e-03, 1.71e-03, 4.44e-02]    []  \n",
      "24000     [9.33e-04, 1.48e-04, 1.75e-06, 1.53e-03, 2.36e-03, 4.41e-02]    [6.12e-04, 1.06e-04, 1.52e-06, 1.53e-03, 2.36e-03, 4.41e-02]    []  \n",
      "25000     [1.16e-03, 1.62e-04, 2.30e-06, 1.73e-03, 1.48e-03, 3.90e-02]    [8.53e-04, 1.19e-04, 1.96e-06, 1.73e-03, 1.48e-03, 3.90e-02]    []  \n",
      "26000     [1.53e-03, 2.03e-04, 3.05e-06, 1.82e-03, 3.18e-03, 3.95e-02]    [1.28e-03, 1.58e-04, 2.54e-06, 1.82e-03, 3.18e-03, 3.95e-02]    []  \n",
      "27000     [1.66e-03, 2.25e-04, 3.15e-06, 1.85e-03, 1.27e-03, 3.27e-02]    [1.42e-03, 1.74e-04, 2.67e-06, 1.85e-03, 1.27e-03, 3.27e-02]    []  \n",
      "28000     [1.71e-03, 2.60e-04, 2.51e-06, 1.96e-03, 1.23e-03, 3.06e-02]    [1.48e-03, 2.14e-04, 2.16e-06, 1.96e-03, 1.23e-03, 3.06e-02]    []  \n",
      "29000     [1.89e-03, 2.66e-04, 2.45e-06, 2.08e-03, 2.39e-03, 3.30e-02]    [1.66e-03, 2.16e-04, 2.20e-06, 2.08e-03, 2.39e-03, 3.30e-02]    []  \n",
      "30000     [1.78e-03, 3.01e-04, 2.36e-06, 2.04e-03, 1.16e-03, 2.71e-02]    [1.56e-03, 2.57e-04, 2.04e-06, 2.04e-03, 1.16e-03, 2.71e-02]    []  \n",
      "31000     [1.76e-03, 3.18e-04, 2.47e-06, 2.00e-03, 1.16e-03, 2.61e-02]    [1.54e-03, 2.73e-04, 2.12e-06, 2.00e-03, 1.16e-03, 2.61e-02]    []  \n",
      "32000     [1.69e-03, 3.40e-04, 2.66e-06, 1.96e-03, 1.07e-03, 2.49e-02]    [1.46e-03, 3.00e-04, 2.23e-06, 1.96e-03, 1.07e-03, 2.49e-02]    []  \n",
      "33000     [1.63e-03, 3.56e-04, 2.83e-06, 1.93e-03, 1.01e-03, 2.42e-02]    [1.38e-03, 3.19e-04, 2.36e-06, 1.93e-03, 1.01e-03, 2.42e-02]    []  \n",
      "34000     [1.59e-03, 3.71e-04, 3.01e-06, 1.88e-03, 9.83e-04, 2.35e-02]    [1.33e-03, 3.38e-04, 2.53e-06, 1.88e-03, 9.83e-04, 2.35e-02]    []  \n",
      "35000     [1.56e-03, 3.87e-04, 3.10e-06, 1.83e-03, 9.07e-04, 2.29e-02]    [1.29e-03, 3.57e-04, 2.60e-06, 1.83e-03, 9.07e-04, 2.29e-02]    []  \n",
      "36000     [1.53e-03, 4.00e-04, 3.21e-06, 1.78e-03, 8.61e-04, 2.24e-02]    [1.26e-03, 3.73e-04, 2.68e-06, 1.78e-03, 8.61e-04, 2.24e-02]    []  \n",
      "37000     [1.52e-03, 4.13e-04, 3.20e-06, 1.72e-03, 8.12e-04, 2.18e-02]    [1.25e-03, 3.90e-04, 2.64e-06, 1.72e-03, 8.12e-04, 2.18e-02]    []  \n",
      "38000     [1.52e-03, 4.22e-04, 3.21e-06, 1.66e-03, 7.76e-04, 2.14e-02]    [1.25e-03, 4.03e-04, 2.64e-06, 1.66e-03, 7.76e-04, 2.14e-02]    []  \n",
      "39000     [1.51e-03, 4.43e-04, 3.10e-06, 1.62e-03, 7.64e-04, 2.10e-02]    [1.25e-03, 4.33e-04, 2.54e-06, 1.62e-03, 7.64e-04, 2.10e-02]    []  \n",
      "40000     [1.53e-03, 4.45e-04, 3.06e-06, 1.57e-03, 7.14e-04, 2.05e-02]    [1.27e-03, 4.35e-04, 2.49e-06, 1.57e-03, 7.14e-04, 2.05e-02]    []  \n",
      "41000     [1.53e-03, 4.61e-04, 2.95e-06, 1.52e-03, 6.85e-04, 2.01e-02]    [1.27e-03, 4.60e-04, 2.41e-06, 1.52e-03, 6.85e-04, 2.01e-02]    []  \n",
      "42000     [1.55e-03, 4.65e-04, 2.89e-06, 1.48e-03, 6.66e-04, 1.98e-02]    [1.29e-03, 4.63e-04, 2.39e-06, 1.48e-03, 6.66e-04, 1.98e-02]    []  \n",
      "43000     [1.57e-03, 4.78e-04, 2.78e-06, 1.44e-03, 6.41e-04, 1.94e-02]    [1.30e-03, 4.78e-04, 2.29e-06, 1.44e-03, 6.41e-04, 1.94e-02]    []  \n",
      "44000     [1.58e-03, 4.87e-04, 2.69e-06, 1.41e-03, 6.20e-04, 1.90e-02]    [1.32e-03, 4.94e-04, 2.22e-06, 1.41e-03, 6.20e-04, 1.90e-02]    []  \n"
     ]
    }
   ],
   "source": [
    "\n",
    "\n",
    "## Stabilize initialization process by capping the losses\n",
    "\n",
    "initial_loss =10e12\n",
    "num_init = 0\n",
    "while initial_loss>MAX_LOSS or np.isnan(initial_loss).any() or np.isinf(initial_loss).any():  # added checking for inf values\n",
    "    num_init += 1\n",
    "    model = dde.Model(pde_data, net)\n",
    "    model.compile(\"adam\", lr=lr)\n",
    "    #model.compile(\"adam\", lr=lr, loss_weights=loss_weights)\n",
    "    losshistory, _ = model.train(epochs=1)\n",
    "#     losshistory, train_state = model.train(epochs=epochs, model_save_path = out_path, display_every=1000)\n",
    "    initial_loss = max(losshistory.loss_train[0])\n",
    "    if num_init > MAX_MODEL_INIT:\n",
    "        raise ValueError('Model initialization phase exceeded the allowed limit')\n",
    "\n",
    "losshistory, train_state = model.train(epochs=epochs)  # crashes here\n",
    "\n",
    "# Plot loss history\n",
    "loss_train = np.sum(losshistory.loss_train, axis=1)\n",
    "loss_test = np.sum(losshistory.loss_test, axis=1)\n"
   ]
  },
  {
   "cell_type": "code",
   "execution_count": null,
   "metadata": {
    "id": "1HVbczI72Wyl"
   },
   "outputs": [],
   "source": [
    "model_pred = model.predict(observe_test)\n",
    "upred = model_pred[:,0:1]\n",
    "rmse_v = np.sqrt(np.square(upred - usav).mean())\n",
    "print('rmse_v:', rmse_v)\n",
    "\n",
    "dici1={\"model_pred\": model_pred, \"observe_x\": observe_x, \"ulin\": usav}\n",
    "file_name_save = file_name[0:-4] + \"DONE.mat\"\n",
    "spy.savemat(file_name_save,dici1)"
   ]
  },
  {
   "cell_type": "code",
   "execution_count": null,
   "metadata": {
    "colab": {
     "base_uri": "https://localhost:8080/",
     "height": 1000
    },
    "id": "NbYTAnKC2Yi-",
    "outputId": "3901f343-e070-4ca5-d185-945663206a3c"
   },
   "outputs": [],
   "source": []
  },
  {
   "cell_type": "code",
   "execution_count": null,
   "metadata": {
    "colab": {
     "base_uri": "https://localhost:8080/",
     "height": 1000
    },
    "id": "iEKAfqdk5nWr",
    "outputId": "4b5161cf-45c2-4b14-f77b-32b7d6f390ac"
   },
   "outputs": [],
   "source": []
  },
  {
   "cell_type": "code",
   "execution_count": null,
   "metadata": {},
   "outputs": [],
   "source": []
  }
 ],
 "metadata": {
  "accelerator": "GPU",
  "colab": {
   "collapsed_sections": [],
   "name": "pinn_main_final.ipynb",
   "provenance": []
  },
  "kernelspec": {
   "display_name": "Python 3 (ipykernel)",
   "language": "python",
   "name": "python3"
  },
  "language_info": {
   "codemirror_mode": {
    "name": "ipython",
    "version": 3
   },
   "file_extension": ".py",
   "mimetype": "text/x-python",
   "name": "python",
   "nbconvert_exporter": "python",
   "pygments_lexer": "ipython3",
   "version": "3.10.7"
  }
 },
 "nbformat": 4,
 "nbformat_minor": 1
}
